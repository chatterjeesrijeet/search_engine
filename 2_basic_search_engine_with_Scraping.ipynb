{
 "cells": [
  {
   "cell_type": "markdown",
   "metadata": {},
   "source": [
    "### Crawl data to create a corpus"
   ]
  },
  {
   "cell_type": "code",
   "execution_count": 1,
   "metadata": {},
   "outputs": [],
   "source": [
    "import requests\n",
    "from bs4 import BeautifulSoup\n",
    "\n",
    "# Make a request to the website\n",
    "r = requests.get('https://bola.kompas.com/')\n",
    "\n",
    "# Create an object to parse the HTML format\n",
    "soup = BeautifulSoup(r.content, 'html.parser')\n",
    "\n",
    "# Retrieve all popular news links (Fig. 1)\n",
    "link = []\n",
    "\n",
    "for i in soup.find('div', {'class':'most__wrap'}).find_all('a'):\n",
    "    i['href'] = i['href'] + '?page=all'\n",
    "    link.append(i['href'])\n",
    "# For each link, we retrieve paragraphs from it, combine each paragraph as one string, and save it to documents (Fig. 2)\n",
    "documents = []\n",
    "for i in link:\n",
    "    # Make a request to the link\n",
    "    r = requests.get(i)\n",
    "  \n",
    "    # Initialize BeautifulSoup object to parse the content \n",
    "    soup = BeautifulSoup(r.content, 'html.parser')\n",
    "  \n",
    "    # Retrieve all paragraphs and combine it as one\n",
    "    sen = []\n",
    "    for i in soup.find('div', {'class':'read__content'}).find_all('p'):\n",
    "        sen.append(i.text)\n",
    "  \n",
    "    # Add the combined paragraphs to documents\n",
    "    documents.append(' '.join(sen))"
   ]
  },
  {
   "cell_type": "code",
   "execution_count": 2,
   "metadata": {},
   "outputs": [
    {
     "data": {
      "text/plain": [
       "list"
      ]
     },
     "execution_count": 2,
     "metadata": {},
     "output_type": "execute_result"
    }
   ],
   "source": [
    "type(documents)"
   ]
  },
  {
   "cell_type": "code",
   "execution_count": 3,
   "metadata": {},
   "outputs": [
    {
     "data": {
      "text/plain": [
       "10"
      ]
     },
     "execution_count": 3,
     "metadata": {},
     "output_type": "execute_result"
    }
   ],
   "source": [
    "len(documents)"
   ]
  },
  {
   "cell_type": "code",
   "execution_count": 4,
   "metadata": {},
   "outputs": [
    {
     "data": {
      "text/plain": [
       "['KOMPAS.com -\\xa0Jutaan pendukung Barcelona patah hati melihat Lionel Messi meninggalkan Camp Nou, tak terkecuali Andres Iniesta. Andres Iniesta yang juga merupakan legenda Barcelona itu mengaku tidak bisa membayangkan melihat Messi bermain untuk klub selain Barcelona. “Akan menyakitkan melihatnya mengenakan seragam tim lain. Leo melambangkan Barcelona,\" ucap Iniesta kepada AFP, sebagaimana dikutip dari Goal, Rabu (11/8/2021). \"Dia adalah segalanya, dia pemain yang \\'melampaui\\' klub. Saya belum pernah melihat pemain seperti dia dan saya pikir tidak akan pernah melihatnya (lagi),\" imbuhnya. Andres Iniesta mengaku tidak tahu ada apa di balik kepergian Messi ke Paris Saint-Germain (PSG), tetapi dia berharap Barcelona tetap \"hidup\" setelah ditinggal sang kapten. Baca juga: RESMI - Lionel Messi Bergabung dengan PSG \"Saya tidak tahu apa yang terjadi secara internal, atau bagaimana keadaannya, tetapi klub perlu pulih dari transfer ini,\" kata Iniesta. Dapatkan informasi, inspirasi dan insight di email kamu.Daftarkan email “(Barcelona) akan terus menjadi salah satu tim terbaik, salah satu yang harus berada di puncak,\" tutur pemain 37 tahun itu. Andres Iniesta pernah memperkuat Barcelona medio 2002-2018 sebelum hengkang ke klub Liga Jepang Vissel Kobe. Selama berseragam Barcelona, Iniesta memenangi banyak gelar bergengsi, di antaranya sembilan gelar Liga Spanyol dan empat mahkota Liga Champions. Lionel Messi turut menjadi bagian kesuksesan Iniesta bersama Barcelona. Baca juga: Kata-kata Pertama Lionel Messi Setelah Resmi Jadi Pemain PSG Sekarang, keduanya sudah meninggalkan Barcelona. Lionel Messi, khususnya, dia berlabuh di PSG usai kontraknya di Barca yang berakhir pada akhir Juni 2021, gagal diperpanjang karena terbentur regulasi LaLiga soal pembatasan gaji. Megabintang asal Argentina itu secara resmi diumumkan menjadi pemain baru PSG pada Rabu (11/8/2021) dini hari WIB. Melansir Marca, Messi diikat PSG dengan kontrak berdurasi dua tahun dengan opsi perpanjangan satu musim hingga Juni 2021. Pemenang enam trofi Ballon d\\'Or itu kabarnya akan mendapat gaji sebesar 35 juta euro (sekitar Rp 590 miliar) per tahun di PSG. ?? #PSGxMESSI ???? ???? https://t.co/gbAxUj8yNo pic.twitter.com/6TsVp8YLip \"Saya sangat antusias untuk memulai babak baru dalam karier saya di PSG. Segala sesuatu tentang PSG sesuai dengan ambisi sepak bola saya,\" kata Messi dalam rilis resmi PSG. Baca juga: Resmi ke PSG, Lionel Messi Pilih Nomor Punggung 30 \"Saya tahu betapa berbakatnya pemain dan staf pelatih di skuad PSG saat ini,\" tutur Messi menambahkan. \"Saya bertekad untuk membangun sesuatu yang istimewa bersama PSG dan para fans di sini. Saya sudah tidak sabar untuk bermain di Stadion Parc des Princes,\" ucap Messi.',\n",
       " \"\\xa0 PARIS, KOMPAS.com - Lionel Messi memutuskan untuk menggunakan nomor punggung 30 di tim barunya, Paris Saint-Germain (PSG). La Pulga, julukan Lionel Messi, telah resmi diperkenalkan sebagai pemain baru PSG pada Rabu (11/8/2021) dini hari WIB. Dikutip dari situs Marca, PSG resmi mengikat Lionel Messi dengan kontrak dua tahun sampai Juni 2023. Opsi perpanjangan satu musim juga tertulis dalam kontrak Lionel Messi. Berbagai media Eropa mengeklaim gaji Lionel Messi di PSG mencapai 35 juta euro atau sekitar Rp 509 miliar per musim di luar bonus. Sebelumnya, PSG disebut sudah menawarkan Lionel Messi untuk menggunakan nomor punggung 10 yang kini dipakai Neymar Jr. Dapatkan informasi, inspirasi dan insight di email kamu.Daftarkan email Baca juga: RESMI - Lionel Messi Bergabung dengan PSG Namun, Lionel Messi dikabarkan telah menolak tawaran tersebut. Lionel Messi pada akhirnya memilih menggunakan nomor punggung 30 di PSG. Nomor punggung 30 sebenarnya tidak asing untuk Lionel Messi. Kapten timnas Argentina itu sebelumnya sudah pernah menggunakan nomor punggung 30 selama dua musim di Barcelona. Nomor 30 bahkan bisa dikatakan spesial dalam karier Lionel Messi. Sebab, 30 adalah nomor punggung yang digunakan Lionel Messi ketika debut di tim senior Barcelona pada Oktober 2004. Baca juga: Lionel Messi Pergi, Nilai Merek Barcelona Diprediksi Turun Rp 2,3 Triliun Leo Messi will be unveiled tomorrow as new Paris Saint-Germain number 30. ????????????3??0?? #PSG #Messi pic.twitter.com/RvqTDoq97r ???????? Leo Messi ???????? PSG ???????? 30 a la espalda pic.twitter.com/PMc9nlUtgc Nomor 30 itu terus melekat di punggung Lionel Messi sampai akhir musim 2005-2006. Setelah itu, Lionel Messi memilih menggunakan nomor punggung 19 selama dua tahun sejak awal musim 2006-2007 hingga 2008. Tepat pada awal musim 2008-2009, Lionel Messi mendapatkan kehormatan dari Barcelona untuk menggunakan nomor punggung 10 yang ditinggal legenda timnas Brasil, Ronaldinho. Baca juga: VIDEO - Foto Lionel Messi di Stadion Camp Nou Sudah Dicopot  Sejak saat itu, Lionel Messi terus menggunakan nomor punggung 10 hingga musim terakhirnya di Barcelona. Di timnas Argentina, Lionel Messi juga sangat identik dengan nomor punggung 10. Peraih enam gelar Ballon d'Or itu mulai menggunakan nomor punggung 10 di timnas Argentina pada 2008. Sebelum itu, Lionel Messi tercatat sempat memakai tiga nomor lain di timnas Argentina, yakni 18, 19, dan 15. Kini, Lionel Messi tidak lagi menggunakan nomor punggung 10 di level klub. Adapun konferensi pers pertama Lionel Messi sebagai pemain PSG kemungkinan besar akan dihelat di Stadion Parc des Princes pada Rabu (11/8/2021) waktu setempat.\",\n",
       " 'KOMPAS.com -\\xa0Para Pemain Paris Saint-Germain, termasuk Neymar, antusias menyambut kedatangan Lionel Messi di Pac des Princes. Neymar mengirim pesan selamat datang kepada Messi lewat unggahan insta story di Instagram-nya, beberapa waktu lalu. Dalam unggahan tersebut, Neymar memajang foto dirinya bersama Messi saat masih di Barcelona sembari membubuhi caption \"back together\" alias kembali bersama. Neymar is HYPED to be reunited with Lionel Messi at PSG ???? pic.twitter.com/Z3KAUJdYhK Neymar pernah bermain bersama Lionel Messi di Barcelona selama empat musim, sejak 2013 hingga 2017. Baca juga: RESMI - Lionel Messi Bergabung dengan PSG Dia dengan cepat menjalin hubungan yang kuat dengan sang megabintang asal Argentina itu, baik di dalam maupun luar lapangan. Dapatkan informasi, inspirasi dan insight di email kamu.Daftarkan email Kontribusi keduanya melahirkan beberapa gelar bergengsi untuk Barcelona, di antaranya dua trofi LaLiga dan Liga Champions. Neymar dan Messi juga merasakan treble alias tiga gelar juara dalam satu musim pada 2014-2015. Mereka membentuk trio maut bersama Luis Suarez. Neymar kemudian meninggalkan Barcelona pada 2017 untuk Paris Saint-Germain (PSG) dengan rekor transfer 222 juta euro (saat ini sekitar Rp 3,7 triliun). Baca juga: Kata-kata Pertama Lionel Messi Setelah Resmi Jadi Pemain PSG Sejak saat itu, Neymar tak lagi berbagi ruang ganti dengan Messi. Namun, takdir menyatukan mereka kembali empat tahun kemudian. Itu terjadi setelah Messi menyusul Neymar ke PSG. Messi ke PSG setelah gagal menandatangani pembaruan kontrak baru di Barcelona karena terhalang regulasi LaLiga tentang pembatasan gaji. Dia secara resmi diperkenalkan sebagai pemain baru Paris Saint-Germain pada Rabu (11/8/2021) dini hari WIB. Baca juga: Resmi ke PSG, Lionel Messi Pilih Nomor Punggung 30 Pemain 34 tahun itu bergabung dengan Les Parisiens dengan status bebas transfer. Paris Saint-Germain is delighted to announce the signing of Leo Messi on a two-year contract with an option of a third year.https://t.co/D5Qjq7PJfF#PSGxMESSI ?????? pic.twitter.com/msJAnW01V5 Melansir Marca, Messi diikat PSG dengan kontrak berdurasi dua tahun dengan opsi perpanjangan satu musim hingga Juni 2024. Messi akan menerima gaji sebesar 35 juta euro (sekitar Rp 590 miliar) di luar bonus selama dua tahun ke depan. Peraih enam gelar Ballon d\\'Or itu memilih nomor 30 di PSG, menolak jersey nomor 10 yang ditawarkan Neymar sebelumnya.\\xa0',\n",
       " ' PARIS, KOMPAS.com - Mantan kapten Barcelona, Lionel Messi, telah resmi bergabung dengan Paris Saint-Germain (PSG). PSG meresmikan transfer Lionel Messi pada Selasa (10/8/2021) atau Rabu dini hari WIB. Dikutip dari situs Marca, PSG resmi mengikat Lionel Messi dengan kontrak dua tahun yang bisa diperpanjang satu musim sampai Juni 2024. Lionel Messi dikabarkan akan mendapat gaji sebesar 35 juta euro atau sekitar Rp 509 miliar per musim di luar bonus selama dua tahun ke depan. La Pulga, julukan Lionel Messi, bergabung ke PSG dengan status bebas transfer alias gratis setelah kontraknya bersama Barcelona habis pada Juni 2021. Baca juga: Efek Messi, Followers PSG di Media Sosial Melonjak 10 Kali Lipat! Dapatkan informasi, inspirasi dan insight di email kamu.Daftarkan email Setelah resmi ke PSG, Lionel Messi mengaku sudah tidak sabar bertemu dengan rekan-rekan barunya dan para fans. Lionel Messi juga berharap dirinya bisa membantu PSG meraih prestasi tidak hanya di Perancis melainkan juga di kompetisi Eropa. \"Saya sangat antusias untuk memulai babak baru dalam karier saya di PSG. Segala sesuatu tentang PSG sesuai dengan ambisi sepak bola saya,\" kata Lionel Messi dikutip dari rilis resmi PSG. \"Saya tahu betapa berbakatnya pemain dan staf pelatih di skuad PSG saat ini,\" tutur Lionel Messi menambahkan. \"Saya bertekad untuk membangun sesuatu yang istimewa bersama PSG dan para fans di sini. Saya sudah tidak sabar untuk bermain di Stadion Parc des Princes,\" ucap Lionel Messi. ?? #PSGxMESSI ???? ???? https://t.co/gbAxUj8yNo pic.twitter.com/6TsVp8YLip Baca juga: VIDEO - Foto Lionel Messi di Stadion Camp Nou Sudah Dicopot Setelah resmi meninggalkan Barcelona, Lionel Messi yang kini sudah berusia 34 tahun sempat mengutarakan target dan mimpinya ke depan. Peraih enam gelar Ballon d\\'Or itu mengaku ingin kembali mengangkat trofi Liga Champions sebelum memutuskan pensiun. Mimpi Lionel Messi itu sejalan dengan ambisi PSG yang sampai saat ini masih berusaha meraih trofi Liga Champions pertamanya. Dalam sejarah Liga Champions, prestasi terbaik PSG sejauh ini hanyalah menjadi runner up pada musim 2019-2020. Les Parisiens, julukan PSG, saat itu gagal menjadi juara seusai kalah 0-1 dari raksasa Jerman, Bayern Muenchen pada partai final. Musim lalu, langkah PSG di Liga Champions terhenti di semifinal setelah kalah agregat 1-4 dari Manchester City. Baca juga: Lionel Messi Pergi, Nilai Merek Barcelona Diprediksi Turun Rp 2,3 Triliun Berbeda dari PSG, Lionel Messi sejauh ini sudah berhasil mengoleksi empat trofi juara Liga Champions. Empat trofi itu didapatkan Lionel Messi pada 2006, 2009, 2011, dan 2015, ketika berseragam Barcelona. Terdekat, PSG dijadwalkan menghadapi Strasbourg di Stadion Parc des Princes pada laga pekan kedua Liga Perancis, Sabtu (14/8/2021). Jika tidak ada halangan, Lionel Messi kemungkinan akan debut dengan seragam PSG pada laga tersebut.',\n",
       " \" KOMPAS.com - Tidak butuh waktu lama untuk Lionel Messi mendapatkan klub anyar seusai berpisah dari Barcelona. Hanya berselang dua hari setelah menangis dan berpamitan dengan Barcelona, Lionel Messi resmi diperkenalkan sebagai pemain anyar Paris Saint-Germain (PSG). Striker megabintang asal Argentina itu resmi menandatangani kontrak berdurasi dua tahun di PSG pada Selasa (10/8/2021). Dua hari sebelumnya, tepatnya pada Minggu (8/8/2021), Messi baru saja menggelar konferensi pers untuk mengucapkan salam perpisahannya dengan Barca serta fans setianya. Baca juga: Lionel Messi Resmi Gabung PSG, Jersey Sang Bintang Lansung Ludes dalam 30 Menit Meski begitu, drama perpisahan Lionel Messi dengan Barcelona sebenarnya sudah berlangsung sejak lama. Dapatkan informasi, inspirasi dan insight di email kamu.Daftarkan email Pemain yang menghabiskan hampir seluruh kariernya bersama Barcelona itu sempat mengutarakan niat meninggalkan Camp Nou pada awal musim lalu. Namun, Messi akhirnya memutuskan untuk bertahan di Barcelona hingga masa kontraknya berakhir. Striker berjuluk La Pulga itu sempat berniat bertahan di Camp Nou dalam jangka waktu lebih lama saat kontraknya habis pada 1 Juli 2021. Akan tetapi, Barcelona memilih tidak memberikan perpanjangan kontrak kepada Messi. Klub berjuluk Blaugrana itu memutuskan melepaskan Messi karena kendala finansial. AFP/PAU BARRENA Barcelona's Argentinian forward Lionel Messi cries during a press conference at the Camp Nou stadium in Barcelona on August 8, 2021. - The six-time Ballon d'Or winner Messi had been expected to sign a new five-year deal with Barcelona on August 5 but instead, after 788 games, the club announced he is leaving at the age of 34. (Photo by Pau BARRENA / AFP) 25 Agustus 2020 - Messi mengirim faksimile\\xa0kepada Barcelona soal keinginannya mengaktifkan klausul pelepasan agar dirinya bisa meninggalkan Camp Nou sebelum kontraknya berakhir. 4 September 2020 - Setelah mendapati kebuntuan dalam drama klausul kontrak, Messi akhirnya memilih bertahan di Barcelona. Messi menyadari klausul pelepasan senilai 700 juta euro (Rp 11,8 triliun) yang disyaratkan Barcelona bakal sulit dipenuhi klub-klub yang ingin membelinya. 27 Oktober 2020 - Josep Maria Bartomeu mundur dari kursi Presiden Barcelona setelah berselisih dengan Messi dan permintaan transfernya gagal. Baca juga: Andres Iniesta: Menyakitkan Lihat Lionel Messi Main untuk PSG 28 Desember 2020 - Messi mengisyaratkan ingin berkarier di Amerika Serikat, tetapi dia tidak yakin soal masa depannya seusai kontraknya habis di Barcelona. 16 Mei 2021 - Pelatih Ronald Koeman mengatakan, dirinya berharap Lionel Messi tidak memainkan laga kandang terakhirnya setelah kekalahan 1-2 dari Celta Vigo menutup kans juara Barca di LaLiga Spanyol 2020-2021. 22 Mei 2021 - PSG mulai intens mengamati situasi kontrak Lionel Messi di Barcelona. 28 Mei 2021 - Presiden Barcelona Joan Laporta mengatakan, pembuatan kontrak anyar Lionel Messi belum selesai, tetapi mengeklaim bahwa negosiasi berjalan lancar. 1 Juli 2021 - Kontrak Lionel Messi di Barcelona resmi berakhir dan sang pemain menyandang status bebas transfer. 15 Juli 2021 - Messi sepakat untuk bertahan di Barcelona hingga 2026 dan bersedia menerima pengurangan gaji. 5 Agustus 2021 - Barcelona mengumumkan akan melepaskan Lionel Messi karena klub terkendala masalah finansial. 8 Agustus 2021 - Messi berbicara dalam konferensi pers dengan berurai air mata saat mengucapkan perpisahannya dari Barcelona. Pada saat itu, dia juga menyinggung bahwa ada kemungkinan akan bergabung dengan PSG. 10 Agustus 2021 - Lionel Messi resmi menandatangani kontrak dengan PSG.\",\n",
       " ' KOMPAS.com - Presiden Paris Saint-Germain, Nasser Al-Khelaifi, secara tidak langsung mendesak Kylian Mbappe agar segera memperpanjang kontraknya. Hal itu tercermin dari keterangan Nasser Al-Khelaifi dalam konferensi pers perkenalan Lionel Messi sebagai pemain baru PSG, Rabu (11/8/2021) sore WIB. Dalam konferensi pers tersebut, Nasser Al-Khelaifi sempat mendapat pertanyaan mengenai bagaimana masa depan Mbappe di PSG. Pertanyaan itu muncul karena kontrak Kylian Mbapee di PSG tersisa satu tahun lagi dan belum diperpanjang. PSG sebenarnya sudah memulai negosiasi kontrak anyar dengan Kylian Mbappe sejak musim lalu. Namun, manajemen PSG dan Mbappe masih belum mencapai kesepakatan hingga saat ini. Dapatkan informasi, inspirasi dan insight di email kamu.Daftarkan email Baca juga: Wawancara Neymar dan Mbappe: Rahasia Kompak, Piala Dunia Jadi Rebutan Terkait hal itu, Nasser Al-Khelaifi terlihat masih opitimistis bisa mempertahankan Kylian Mbappe.  Nasser Al-Khelaifi semakin yakin terutama setelah PSG berhasil mendatangkan pemain sekaliber Lionel Messi pada bursa transfer musim panas kali ini. Menurut Nasser Al-Khelaifi, kesuksesan mendatangkan Lionel Messi adalah bukti kuat bahwa PSG sangat serius membangun tim yang bisa bersaing. Nasser Al-Khelaifi kemudian secara tidak langsung mendesak Kylian Mbappe untuk segera menanda tangani kontrak anyar. \"Semua orang tahu masa depan Kylian Mbappe. Dia adalah orang asli Paris dan kini bermain untuk PSG,\" kata Nasser dikutip dari situs RMC Sport. \"Mbappe adalah pemain yang sangat kompetitif dan memiliki mental pemenang. Dia sudah menyatakan ingin bermain di tim yang bisa bersaing di level tertinggi,\" ujar Nasser. \"Sekarang, tidak ada tim yang lebih kompetitif dibandingkan PSG. Jadi, Mbappe tidak memiliki alan untuk melakukan hal lain (selain memperpanjang kontrak di PSG) saat ini,\" ucap Nasser menambahkan. Baca juga: Lionel Messi ke PSG: Mimpi Saya Mengangkat Trofi Liga Champions Lagi Pernyataan Nasser kali ini berkaitan dengan keterangan Kylian Mbappe akhir musim lalu. Kylian Mbappe sempat menyatakan bahwa dirinya ingin memperkuat tim yang setiap tahun memiliki target meraih trofi bergengsi. Banyak kalangan menilai pernyataan itu adalah kritik Kylian Mbappe terhadap kinerja PSG. Sebab, Kylian Mbappe mengeluarkan pernyataan tersebut tidak lama setelah PSG dipastikan gagal meraih gelar juara Liga Perancis musim lalu. Selama berseragam PSG, Kylian Mbappe selalu dikaitkan dengan raksasa Spanyol, Real Madrid. Keterkaitan itu semakin kuat setelah Mbappe dan PSG tak kunjung menemui kata sepakat dalam negosiasi kontrak baru. PSG kini setidaknya memiliki waktu sekitar enam bulan lagi untuk memperpanjang kontrak Mbappe yang akan berakhir pada Juni 2022. Jika sampai akhir tahun ini gagal memperpanjang kontrak Mbappe, PSG berpotensi menderita kerugian besar, yakni kehilangan sang pemain dengan status bebas transfer.',\n",
       " 'KOMPAS.com - Sergio Ramos, Georginio Wijnaldum, Achraf Hakimi, dan Lionel Messi merupakan pemain-pemain yang pernah menjadi juara di liga-liga top Eropa. Kini, mereka semua berkumpul di klub ibu kota Perancis, Paris Saint-Germain (PSG). PSG melakukan sebuah langkah terbaik dalam sejarah bursa transfer. Klub kaya asal Paris itu berhasil mendatangkan pemain-pemain bintang yang pernah merasakan manisnya gelar juara. Hebatnya lagi, beberapa dari pemain bintang itu didatangkan secara cuma-cuma alias gratis. Terkini, klub berjulukan Les Parisiens itu mendatangkan pemenang enam Ballon d\\'Or, Lionel Messi. Sebelum mendaratkan Messi, PSG telah mendatangkan sederat pemain bintang yaitu Achraf Hakimi, Georginio Wijnaldum, Sergio Ramos, dan Gianluigi Donnarumma. Dari lima nama tersebut, hanya Hakimi yang diboyong dengan biaya transfer. Did PSG just have the best summer transfer window of all time? ???? Dapatkan informasi, inspirasi dan insight di email kamu.Daftarkan email - Lionel Messi (Free)- Sergio Ramos (Free)- Gianluigi Donnarumma (Free)- Achraf Hakimi (€60 million)- Gini Wijnaldum (Free) pic.twitter.com/I4vXOXiCeZ Baca juga: Resmi ke PSG, Lionel Messi Pilih Nomor Punggung 30 Berdasarkan data Transfermarkt, Achraf Hakimi ditebus seharga 60 juta euro atau sekitar Rp 1 triliun dari klub Serie A Italia, Inter Milan. Musim lalu, Hakimi merupakan bagian penting di balik kesuksesan Inter meraih scudetto. Bek kanan berkebangsaan Maroko itu bermain 37 kali pada kompetisi Serie A 2020-2021 dengan kontribusi tujuh gol dan 10 assists. Di PSG, Hakimi bakal bereuni dengan seniornya semasa membela Real Madrid, Sergio Ramos. Soal Ramos, mental juara bek tengah berusia 35 tahun itu sudah tidak perlu dipertanyakan lagi. Berbagai gelar bergengsi pernah diraih oleh Ramos selama 16 musim berseraham Real Madrid, termasuk lima titel La Liga dan empat Liga Champions. Baca juga: Kisah Messi dan Nomor 30, Awal dari Sejarah Besar La Pulga Pemain juara berikutnya yang datang ke Paris adalah Georginio Wijnaldum. Sebelum pindah ke PSG, gelandang asal Belanda itu turut mengantarkan Liverpool meraih gelar Liga Champions musim 2018-2019 dan Premier League 2019-2020. Satu pemain juara lainnya yang tak boleh dilupakan adalah Gianluigi Donnarumma. Eks kiper AC Milan itu memang belum pernah merasakan gelar scudetto. Namun, hingga saat ini ia telah mengoleksi dua trofi juara. Donnarumma tercatat pernah meraih trofi Supercoppa Italiana 2016 bersama AC Milan dan terkini membantu timnas Italia meraih gelar juara Euro 2020. Baca juga: Lionel Messi dan Barcelona: Ketika Cinta Terhalang oleh Keadaan Kehadiran Lionel Messi melengkapi para pemain juara yang kini berkumpul di Paris. Selama 17 tahun memperkuat Barcelona, Messi berhasil meraih segalanya. Ia tercatat meraih total 35 gelar termasuk 10 titel La Liga dan empat trofi Liga Champions. ???????? Nasser Al-Khelaïfi, Chairman and CEO of @PSG_English “I am delighted that Lionel Messi has chosen to join Paris Saint-Germain and we are proud to welcome him and his family to Paris.” pic.twitter.com/Ty4wqTAZKW Meski sudah meraih segalanya bersama Barcelona, Lionel Messi masih memiliki ambisi besar. Kini, di rumah barunya, Messi bertekad memberikan sesuatu yang istimewa bagi PSG dan pendukung Les Parisiens. \"Saya bersemangat untuk memulai babak baru dalam karier saya di Paris Saint-Germain. Segala sesuatu tentang klub sesuai dengan ambisi sepak bola saya,\" kata Messi usai diresmikan sebagai pemain PSG. \"Saya tahu betapa berbakatnya skuad dan staf pelatih di sini. Saya bertekad untuk membantu membangun sesuatu yang istimewa untuk klub dan para penggemar, dan saya tak sabar untuk melangkah ke lapangan Parc des Princes,\" tutur Messi yang akan menggunakan nomor 30 di PSG.',\n",
       " \"KOMPAS.com -\\xa0Lionel Messi digaji tinggi oleh Paris Saint-Germain. Dalam sehari, La Pulga bisa mengantongi nyaris Rp 2 miliar. Lionel Messi diresmikan menjadi pemain baru Paris Saint-Germain (PSG) pada Selasa (10/8/2021) malam waktu setempat atau Rabu dini hari WIB. Dia datang ke Paris dengan status bebas transfer dari Barcelona usai kontraknya yang habis pada akhir Juni 2021, gagal diperbarui karena terbentur regulasi LaLiga soal pembatasan gaji. Sang pemain diikat oleh PSG dengan kontrak berdurasi dua tahun dengan opsi perpanjangan satu musim hingga Juni 2024. Baca juga: RESMI - Lionel Messi Bergabung dengan PSG Belum ada laporan resmi soal gaji Messi di PSG. Pihak klub belum memberikan rincian terkait pendapatan yang akan diterima Messi dalam kontraknya. Namun, beberapa media yang berbasis di Eropa memberikan taksiran berapa upah yang diterima Messi di PSG. Dapatkan informasi, inspirasi dan insight di email kamu.Daftarkan email Menurut Evening Standard, keringat Lionel Messi dihargai 35 juta euro (sekitar Rp 590 miliar) per tahun setelah pajak oleh PSG. Itu berarti, sang megabintang asal Argentina akan menerima tiga juta euro (sekitar Rp 50 miliar) per bulan atau 729.000 euro (sekitar Rp 12 miliar) setiap minggu. Baca juga: Kata-kata Pertama Lionel Messi Setelah Resmi Jadi Pemain PSG Jika dihitung per hari, Messi bisa megantongi 104.000 euro (Rp 1,7 miliar) atau 8.680 euro (sekitar Rp 146 juta) setiap jam. Dipersempit lagi, Messi bakal mendapatkan 144,68 euro (sekitar Rp 2,5 juta) per menit atau 2,41 euro (sekitar Rp 40.000) per detik. Selain Evening Standard, media asal Perancis, L'Equipe mengklaim bahwa Lionel Messi akan mengantongi 40 juta euro (sekitar Rp 675 miliar). Angka di atas diperkirakan sudah termasuk bonus performa Messi, tetapi itu belum dikurangi pajak. Baca juga: 2 Pilihan Formasi PSG Setelah Lionel Messi Datang Untuk menjadi catatan, angka-angka yang disebutkan di atas hanyalah perkiraan alias belum pasti karena pihak PSG belum merilis detail gaji Lionel Messi. Namun, menurut Daily Mail, dengan penandatanganan Messi, PSG menjadi klub olahraga dengan pengeluaran gaji tertinggi di dunia. PSG dilaporkan merogoh kocek hingga 302 juta euro (sekitar Rp 5,1 triliun) hanya untuk menggaji para pemain mereka. Jumlah tersebut lebih tinggi dibanding tagihan gaji milik Real Madrid dan Manchester United. Berikut daftar lima klub olahraga dengan tagihan gaji tertinggi di dunia:\",\n",
       " 'KOMPAS.com\\xa0- Greysia Polii menjadi satu-satunya wakil Indonesia yang masuk dalam daftar atlet dunia paling banyak dibicarakan di Twitter selama perhelatan Olimpiade Tokyo 2020. Greysia Polii sukses mencuri perhatian dunia setelah berhasil merebut medali emas di Olimpiade Tokyo 2020 bersama pasangan duetnya, Apriyani Rahayu. Medali emas Olimpiade Tokyo 2020 ini menjadi hadiah manis bagi kisah perjuangan Greysia yang bangkit dari keterpurukan. Kiprah Greysia sempat ternodai saat tersangkut skandal di Olimpiade London 2012. Kala itu, Greysia Polii didiskualifikasi karena dituding sengaja mengalah saat bertanding pada fase grup. Baca juga: Butuh Istirahat Usai Olimpiade Tokyo 2021, Novak Djokovic Mundur dari Turnamen di AS Insiden itu sempat membuat Greysia mempertimbangkan untuk pensiun dini. Dapatkan informasi, inspirasi dan insight di email kamu.Daftarkan email Pemenang medali emas Asian Games 2014 itu kembali diuji ketika pasangan tandingnya, Nitya Krishinda Maheswari, mengalami cedera serius pada 2016. Terbawa bayang-bayang kegagalan menembus semifinal Olimpiade Rio 2016, pemain berdarah Minahasa itu kembali berencana gantung raket. Untungnya, ambisi Greysia untuk meraih prestasi di Olimpiade kembali menyala setelah menemukan harapan baru saat dipasangkan dengan Apriyani. Baca juga: Detik-detik Greysia/Apriyani Rebut Emas Olimpiade Tokyo, dari Raket Bengkok hingga Adu Teriakan Kegigihan Greysia pun terbayarkan dengan raihan medali emas Olimpiade, prestasi paling tinggi bagi para atlet bulu tangkis. Kisah inspiratif Greysia tampaknya telah membuatnya menjadi salah satu primadona pada Olimpiade Tokyo 2020. Twitter mencatat bahwa Greysia adalah atlet kelima yang paling banyak dibicarakan di seluruh dunia sepanjang Olimpiade Tokyo 2020. Greysia sendiri menjadi satu-satunya atlet Indonesia yang masuk ke dalam daftar tersebut. Pemain yang hari ini genap berusia 34 tahun itu bersanding bersama atlet-atlet berprestasi juga inspiratif dari negara lain. Sementara itu, di Indonesia, nama Greysia dan Apriyani pun tak kalah banyak dibicarakan. Baca juga: Olimpiade Tokyo 2020, PM Jepang Berterima Kasih Dalam riset yang dilakukan Twitter, Greysia dan Apriyani menempati posisi 1 dan 2 dalam daftar atlet yang paling banyak dibicarakan di Indonesia selama Olimpiade 2020. Dampak yang dihadirkan Greysia/Apriyani dari kesuksesan mereka menyabet medali emas Olimpiade Tokyo 2020 memang besar. Twitter mencatat bahwa dari 5,1 juta kicauan seputar #Tokyo2020 di Indonesia, hampir 2 juta kicauan di antaranya muncul saat Greysia/Apriyani menjadi juara. Keberhasilan Greysia/Apriyani dalam merebut medali emas Olimpiade Tokyo 2020 memang terhitung luar biasa. Greysia/Apriyani memutus dahaga jagat bulu tangkis Indonesia yang sebelumnya masih menanti medali Olimpiade dari nomor ganda putri. Sebelumnya, pencapaian terbaik pasangan srikandi tanah air di cabor bulu tangkis Olimpiade adalah menembus babak perempat final. (Ardhianto Wahyu Indraputra)',\n",
       " 'KOMPAS.com - Manny Pacquiao dipastikan tetap melakoni pertarungan tinju pada 21 Agustus 2021, dengan melawan petinju asal Kuba, Yordenis Ugas. Sebelumnya, rencana duel Manny Pacquiao sempat dipertanyakan karena calon lawannya, Errol Spence, terpaksa mundur akibat menderita cedera mata. Berdasarkan pemeriksaan medis, retina mata Spence robek sehingga dia harus menjalani operasi. Kondisi tersebut akhirnya memaksa Spence untuk mundur dari pertarungan melawan The Pacman - julukan Manny Pacquiao. Baca juga: Mike Tyson Ingin Lihat Mayweather Jr Tanding Ulang Lawan Pacquiao Kendati Spence telah mundur, Pacquiao tetap akan kembali beraksi di ring tinju. Petarung asal Filipina itu bakal menghadapi juara kelas welter, Yordenis Ugas. Dapatkan informasi, inspirasi dan insight di email kamu.Daftarkan email Sebenarnya, Ugas dijadwalkan bertarung melawan Fabian Maidana untuk mempertahakan gelarnya pada 21 Agustus mendatang. Namun, dia kemudian mendapatkan promosi untuk menggantikan Spence sebagai penantang Pacquiao. Pacquiao pun menyambut tantangan dari Ugas dengan tangan terbuka. Tidak lupa, petinju 42 tahun itu juga mendoakan kesembuhan Spence yang batal bertarung melawan dirinya. \"Pertama dan yang terpenting, saya meminta semua orang untuk bersama sama mendoakan kesembuhan sepenuhnya bagi Errol Spence Jr.,\" kata Pacquiao, dilansir dari BBC, Rabu (11/8/2021). \"Bersyukur karena hasil pemeriksaan medis menemukan masalah pada matanya sebelum dia mengalami kerusakan lebih parah.\" \"Saya sepakat untuk melawan Yordenis Ugas pada 21 Agustus untuk WBA welterweight super championship.\" Baca juga: Profil Manny Pacquiao, Petinju yang Masuk Bursa Calon Presiden Filipina \"Cara palik layak dan satu-satunya untuk memenangi gelar dunia adalah di ring,\" ujar Pacman mengumumkan rencana duelnya melawan Ugas. Ugas telah berhasil mengalahkan Abel Ramos untuk merebut gelar kelas welter reguler WBA yang tanpa pemilik pada September 2020 lalu. Petinju 35 tahun itu kemudian dinobatkan sebagai juara super WBA setelah sabuk Pacquiao dicopot. Adapun duel kontra Yordenis Ugas bakal menjadi aksi pertama Pacquiao di ring tinju setelah menepi selama dua tahun terakhir. Kali terakhir Manny Pacquiao beraksi di ring tinju adalah saat mengalahkan Keith Thurman dalam pertarungan kelas welter WBA pada Juli 2019 lalu.']"
      ]
     },
     "execution_count": 4,
     "metadata": {},
     "output_type": "execute_result"
    }
   ],
   "source": [
    "documents  # is equivalent to vulnerability['description']"
   ]
  },
  {
   "cell_type": "code",
   "execution_count": 5,
   "metadata": {},
   "outputs": [],
   "source": [
    "import re\n",
    "import string\n",
    "documents_clean = []\n",
    "for d in documents:\n",
    "    # Remove Unicode\n",
    "    document_test = re.sub(r'[^\\x00-\\x7F]+', ' ', d)\n",
    "    # Remove Mentions\n",
    "    document_test = re.sub(r'@\\w+', '', document_test)\n",
    "    # Lowercase the document\n",
    "    document_test = document_test.lower()\n",
    "    # Remove punctuations\n",
    "    document_test = re.sub(r'[%s]' % re.escape(string.punctuation), ' ', document_test)\n",
    "    # Lowercase the numbers\n",
    "    document_test = re.sub(r'[0-9]', '', document_test)\n",
    "    # Remove the doubled space\n",
    "    document_test = re.sub(r'\\s{2,}', ' ', document_test)\n",
    "    documents_clean.append(document_test)"
   ]
  },
  {
   "cell_type": "code",
   "execution_count": 6,
   "metadata": {},
   "outputs": [
    {
     "data": {
      "text/plain": [
       "list"
      ]
     },
     "execution_count": 6,
     "metadata": {},
     "output_type": "execute_result"
    }
   ],
   "source": [
    "type(documents_clean)"
   ]
  },
  {
   "cell_type": "code",
   "execution_count": 7,
   "metadata": {},
   "outputs": [
    {
     "data": {
      "text/plain": [
       "10"
      ]
     },
     "execution_count": 7,
     "metadata": {},
     "output_type": "execute_result"
    }
   ],
   "source": [
    "len(documents_clean)"
   ]
  },
  {
   "cell_type": "code",
   "execution_count": 11,
   "metadata": {},
   "outputs": [],
   "source": [
    "import pandas as pd\n",
    "from sklearn.feature_extraction.text import TfidfVectorizer\n",
    "\n",
    "\n",
    "# Instantiate a TfidfVectorizer object\n",
    "vectorizer = TfidfVectorizer(ngram_range = (1,1))\n",
    "\n",
    "# It fits the data and transform it as a vector\n",
    "X = vectorizer.fit_transform(documents_clean)\n",
    "\n",
    "# Convert the X as transposed matrix\n",
    "X = X.T.toarray()\n",
    "\n",
    "# Create a DataFrame and set the vocabulary as the index\n",
    "df = pd.DataFrame(X, index = vectorizer.get_feature_names())"
   ]
  },
  {
   "cell_type": "code",
   "execution_count": 12,
   "metadata": {
    "scrolled": true
   },
   "outputs": [
    {
     "data": {
      "text/html": [
       "<div>\n",
       "<style scoped>\n",
       "    .dataframe tbody tr th:only-of-type {\n",
       "        vertical-align: middle;\n",
       "    }\n",
       "\n",
       "    .dataframe tbody tr th {\n",
       "        vertical-align: top;\n",
       "    }\n",
       "\n",
       "    .dataframe thead th {\n",
       "        text-align: right;\n",
       "    }\n",
       "</style>\n",
       "<table border=\"1\" class=\"dataframe\">\n",
       "  <thead>\n",
       "    <tr style=\"text-align: right;\">\n",
       "      <th></th>\n",
       "      <th>0</th>\n",
       "      <th>1</th>\n",
       "      <th>2</th>\n",
       "      <th>3</th>\n",
       "      <th>4</th>\n",
       "      <th>5</th>\n",
       "      <th>6</th>\n",
       "      <th>7</th>\n",
       "      <th>8</th>\n",
       "      <th>9</th>\n",
       "    </tr>\n",
       "  </thead>\n",
       "  <tbody>\n",
       "    <tr>\n",
       "      <th>abel</th>\n",
       "      <td>0.000000</td>\n",
       "      <td>0.000000</td>\n",
       "      <td>0.000000</td>\n",
       "      <td>0.000000</td>\n",
       "      <td>0.000000</td>\n",
       "      <td>0.000000</td>\n",
       "      <td>0.000000</td>\n",
       "      <td>0.000000</td>\n",
       "      <td>0.000000</td>\n",
       "      <td>0.039382</td>\n",
       "    </tr>\n",
       "    <tr>\n",
       "      <th>ac</th>\n",
       "      <td>0.000000</td>\n",
       "      <td>0.000000</td>\n",
       "      <td>0.000000</td>\n",
       "      <td>0.000000</td>\n",
       "      <td>0.000000</td>\n",
       "      <td>0.000000</td>\n",
       "      <td>0.072913</td>\n",
       "      <td>0.000000</td>\n",
       "      <td>0.000000</td>\n",
       "      <td>0.000000</td>\n",
       "    </tr>\n",
       "    <tr>\n",
       "      <th>achraf</th>\n",
       "      <td>0.000000</td>\n",
       "      <td>0.000000</td>\n",
       "      <td>0.000000</td>\n",
       "      <td>0.000000</td>\n",
       "      <td>0.000000</td>\n",
       "      <td>0.000000</td>\n",
       "      <td>0.145825</td>\n",
       "      <td>0.000000</td>\n",
       "      <td>0.000000</td>\n",
       "      <td>0.000000</td>\n",
       "    </tr>\n",
       "    <tr>\n",
       "      <th>ada</th>\n",
       "      <td>0.029109</td>\n",
       "      <td>0.000000</td>\n",
       "      <td>0.000000</td>\n",
       "      <td>0.026858</td>\n",
       "      <td>0.022780</td>\n",
       "      <td>0.018889</td>\n",
       "      <td>0.000000</td>\n",
       "      <td>0.029745</td>\n",
       "      <td>0.000000</td>\n",
       "      <td>0.000000</td>\n",
       "    </tr>\n",
       "    <tr>\n",
       "      <th>adalah</th>\n",
       "      <td>0.026315</td>\n",
       "      <td>0.020892</td>\n",
       "      <td>0.000000</td>\n",
       "      <td>0.000000</td>\n",
       "      <td>0.000000</td>\n",
       "      <td>0.068306</td>\n",
       "      <td>0.039141</td>\n",
       "      <td>0.000000</td>\n",
       "      <td>0.029316</td>\n",
       "      <td>0.042282</td>\n",
       "    </tr>\n",
       "    <tr>\n",
       "      <th>...</th>\n",
       "      <td>...</td>\n",
       "      <td>...</td>\n",
       "      <td>...</td>\n",
       "      <td>...</td>\n",
       "      <td>...</td>\n",
       "      <td>...</td>\n",
       "      <td>...</td>\n",
       "      <td>...</td>\n",
       "      <td>...</td>\n",
       "      <td>...</td>\n",
       "    </tr>\n",
       "    <tr>\n",
       "      <th>yakni</th>\n",
       "      <td>0.000000</td>\n",
       "      <td>0.033083</td>\n",
       "      <td>0.000000</td>\n",
       "      <td>0.000000</td>\n",
       "      <td>0.000000</td>\n",
       "      <td>0.027041</td>\n",
       "      <td>0.000000</td>\n",
       "      <td>0.000000</td>\n",
       "      <td>0.000000</td>\n",
       "      <td>0.000000</td>\n",
       "    </tr>\n",
       "    <tr>\n",
       "      <th>yang</th>\n",
       "      <td>0.108740</td>\n",
       "      <td>0.043165</td>\n",
       "      <td>0.039809</td>\n",
       "      <td>0.066889</td>\n",
       "      <td>0.042550</td>\n",
       "      <td>0.070565</td>\n",
       "      <td>0.121308</td>\n",
       "      <td>0.092599</td>\n",
       "      <td>0.090857</td>\n",
       "      <td>0.058241</td>\n",
       "    </tr>\n",
       "    <tr>\n",
       "      <th>year</th>\n",
       "      <td>0.000000</td>\n",
       "      <td>0.000000</td>\n",
       "      <td>0.091533</td>\n",
       "      <td>0.000000</td>\n",
       "      <td>0.032612</td>\n",
       "      <td>0.000000</td>\n",
       "      <td>0.000000</td>\n",
       "      <td>0.000000</td>\n",
       "      <td>0.000000</td>\n",
       "      <td>0.000000</td>\n",
       "    </tr>\n",
       "    <tr>\n",
       "      <th>yordenis</th>\n",
       "      <td>0.000000</td>\n",
       "      <td>0.000000</td>\n",
       "      <td>0.000000</td>\n",
       "      <td>0.000000</td>\n",
       "      <td>0.000000</td>\n",
       "      <td>0.000000</td>\n",
       "      <td>0.000000</td>\n",
       "      <td>0.000000</td>\n",
       "      <td>0.000000</td>\n",
       "      <td>0.157526</td>\n",
       "    </tr>\n",
       "    <tr>\n",
       "      <th>zkaujdyhk</th>\n",
       "      <td>0.000000</td>\n",
       "      <td>0.000000</td>\n",
       "      <td>0.053837</td>\n",
       "      <td>0.000000</td>\n",
       "      <td>0.000000</td>\n",
       "      <td>0.000000</td>\n",
       "      <td>0.000000</td>\n",
       "      <td>0.000000</td>\n",
       "      <td>0.000000</td>\n",
       "      <td>0.000000</td>\n",
       "    </tr>\n",
       "  </tbody>\n",
       "</table>\n",
       "<p>1079 rows × 10 columns</p>\n",
       "</div>"
      ],
      "text/plain": [
       "                  0         1         2         3         4         5  \\\n",
       "abel       0.000000  0.000000  0.000000  0.000000  0.000000  0.000000   \n",
       "ac         0.000000  0.000000  0.000000  0.000000  0.000000  0.000000   \n",
       "achraf     0.000000  0.000000  0.000000  0.000000  0.000000  0.000000   \n",
       "ada        0.029109  0.000000  0.000000  0.026858  0.022780  0.018889   \n",
       "adalah     0.026315  0.020892  0.000000  0.000000  0.000000  0.068306   \n",
       "...             ...       ...       ...       ...       ...       ...   \n",
       "yakni      0.000000  0.033083  0.000000  0.000000  0.000000  0.027041   \n",
       "yang       0.108740  0.043165  0.039809  0.066889  0.042550  0.070565   \n",
       "year       0.000000  0.000000  0.091533  0.000000  0.032612  0.000000   \n",
       "yordenis   0.000000  0.000000  0.000000  0.000000  0.000000  0.000000   \n",
       "zkaujdyhk  0.000000  0.000000  0.053837  0.000000  0.000000  0.000000   \n",
       "\n",
       "                  6         7         8         9  \n",
       "abel       0.000000  0.000000  0.000000  0.039382  \n",
       "ac         0.072913  0.000000  0.000000  0.000000  \n",
       "achraf     0.145825  0.000000  0.000000  0.000000  \n",
       "ada        0.000000  0.029745  0.000000  0.000000  \n",
       "adalah     0.039141  0.000000  0.029316  0.042282  \n",
       "...             ...       ...       ...       ...  \n",
       "yakni      0.000000  0.000000  0.000000  0.000000  \n",
       "yang       0.121308  0.092599  0.090857  0.058241  \n",
       "year       0.000000  0.000000  0.000000  0.000000  \n",
       "yordenis   0.000000  0.000000  0.000000  0.157526  \n",
       "zkaujdyhk  0.000000  0.000000  0.000000  0.000000  \n",
       "\n",
       "[1079 rows x 10 columns]"
      ]
     },
     "execution_count": 12,
     "metadata": {},
     "output_type": "execute_result"
    }
   ],
   "source": [
    "df"
   ]
  },
  {
   "cell_type": "code",
   "execution_count": 13,
   "metadata": {},
   "outputs": [],
   "source": [
    "import numpy as np\n",
    "\n",
    "def get_similar_articles(q, df):\n",
    "    print(\"query:\", q)\n",
    "    print(\"The top documents with respectto highest cosine matching : \")\n",
    "    \n",
    "    # Convert the query become a vector\n",
    "    \n",
    "    q = [q]\n",
    "    q_vec = vectorizer.transform(q).toarray().reshape(df.shape[0],)\n",
    "    \n",
    "    sim = {}\n",
    "    # Calculate the similarity\n",
    "    for i in range(10):\n",
    "        sim[i] = np.dot(df.loc[:, i].values, q_vec) / np.linalg.norm(df.loc[:, i]) * np.linalg.norm(q_vec)\n",
    "  \n",
    "    # Sort the values \n",
    "    sim_sorted = sorted(sim.items(), key = lambda x: x[1], reverse=True)\n",
    "    \n",
    "    # Print the articles and their similarity values\n",
    "    for k, v in sim_sorted:\n",
    "        if v != 0.0:\n",
    "            print(\"Cosine Similarity:\", v)\n",
    "            print(documents_clean[k])\n",
    "            print()"
   ]
  },
  {
   "cell_type": "code",
   "execution_count": 14,
   "metadata": {},
   "outputs": [
    {
     "name": "stdout",
     "output_type": "stream",
     "text": [
      "query: barcelona buruk rezim josep maria bartomeu\n",
      "The top documents with respectto highest cosine matching : \n",
      "Cosine Similarity: 0.16528221709362265\n",
      " kompas com tidak butuh waktu lama untuk lionel messi mendapatkan klub anyar seusai berpisah dari barcelona hanya berselang dua hari setelah menangis dan berpamitan dengan barcelona lionel messi resmi diperkenalkan sebagai pemain anyar paris saint germain psg striker megabintang asal argentina itu resmi menandatangani kontrak berdurasi dua tahun di psg pada selasa dua hari sebelumnya tepatnya pada minggu messi baru saja menggelar konferensi pers untuk mengucapkan salam perpisahannya dengan barca serta fans setianya baca juga lionel messi resmi gabung psg jersey sang bintang lansung ludes dalam menit meski begitu drama perpisahan lionel messi dengan barcelona sebenarnya sudah berlangsung sejak lama dapatkan informasi inspirasi dan insight di email kamu daftarkan email pemain yang menghabiskan hampir seluruh kariernya bersama barcelona itu sempat mengutarakan niat meninggalkan camp nou pada awal musim lalu namun messi akhirnya memutuskan untuk bertahan di barcelona hingga masa kontraknya berakhir striker berjuluk la pulga itu sempat berniat bertahan di camp nou dalam jangka waktu lebih lama saat kontraknya habis pada juli akan tetapi barcelona memilih tidak memberikan perpanjangan kontrak kepada messi klub berjuluk blaugrana itu memutuskan melepaskan messi karena kendala finansial afp pau barrena barcelona s argentinian forward lionel messi cries during a press conference at the camp nou stadium in barcelona on august the six time ballon d or winner messi had been expected to sign a new five year deal with barcelona on august but instead after games the club announced he is leaving at the age of photo by pau barrena afp agustus messi mengirim faksimile kepada barcelona soal keinginannya mengaktifkan klausul pelepasan agar dirinya bisa meninggalkan camp nou sebelum kontraknya berakhir september setelah mendapati kebuntuan dalam drama klausul kontrak messi akhirnya memilih bertahan di barcelona messi menyadari klausul pelepasan senilai juta euro rp triliun yang disyaratkan barcelona bakal sulit dipenuhi klub klub yang ingin membelinya oktober josep maria bartomeu mundur dari kursi presiden barcelona setelah berselisih dengan messi dan permintaan transfernya gagal baca juga andres iniesta menyakitkan lihat lionel messi main untuk psg desember messi mengisyaratkan ingin berkarier di amerika serikat tetapi dia tidak yakin soal masa depannya seusai kontraknya habis di barcelona mei pelatih ronald koeman mengatakan dirinya berharap lionel messi tidak memainkan laga kandang terakhirnya setelah kekalahan dari celta vigo menutup kans juara barca di laliga spanyol mei psg mulai intens mengamati situasi kontrak lionel messi di barcelona mei presiden barcelona joan laporta mengatakan pembuatan kontrak anyar lionel messi belum selesai tetapi mengeklaim bahwa negosiasi berjalan lancar juli kontrak lionel messi di barcelona resmi berakhir dan sang pemain menyandang status bebas transfer juli messi sepakat untuk bertahan di barcelona hingga dan bersedia menerima pengurangan gaji agustus barcelona mengumumkan akan melepaskan lionel messi karena klub terkendala masalah finansial agustus messi berbicara dalam konferensi pers dengan berurai air mata saat mengucapkan perpisahannya dari barcelona pada saat itu dia juga menyinggung bahwa ada kemungkinan akan bergabung dengan psg agustus lionel messi resmi menandatangani kontrak dengan psg \n",
      "\n",
      "Cosine Similarity: 0.06473359277911593\n",
      "kompas com jutaan pendukung barcelona patah hati melihat lionel messi meninggalkan camp nou tak terkecuali andres iniesta andres iniesta yang juga merupakan legenda barcelona itu mengaku tidak bisa membayangkan melihat messi bermain untuk klub selain barcelona akan menyakitkan melihatnya mengenakan seragam tim lain leo melambangkan barcelona ucap iniesta kepada afp sebagaimana dikutip dari goal rabu dia adalah segalanya dia pemain yang melampaui klub saya belum pernah melihat pemain seperti dia dan saya pikir tidak akan pernah melihatnya lagi imbuhnya andres iniesta mengaku tidak tahu ada apa di balik kepergian messi ke paris saint germain psg tetapi dia berharap barcelona tetap hidup setelah ditinggal sang kapten baca juga resmi lionel messi bergabung dengan psg saya tidak tahu apa yang terjadi secara internal atau bagaimana keadaannya tetapi klub perlu pulih dari transfer ini kata iniesta dapatkan informasi inspirasi dan insight di email kamu daftarkan email barcelona akan terus menjadi salah satu tim terbaik salah satu yang harus berada di puncak tutur pemain tahun itu andres iniesta pernah memperkuat barcelona medio sebelum hengkang ke klub liga jepang vissel kobe selama berseragam barcelona iniesta memenangi banyak gelar bergengsi di antaranya sembilan gelar liga spanyol dan empat mahkota liga champions lionel messi turut menjadi bagian kesuksesan iniesta bersama barcelona baca juga kata kata pertama lionel messi setelah resmi jadi pemain psg sekarang keduanya sudah meninggalkan barcelona lionel messi khususnya dia berlabuh di psg usai kontraknya di barca yang berakhir pada akhir juni gagal diperpanjang karena terbentur regulasi laliga soal pembatasan gaji megabintang asal argentina itu secara resmi diumumkan menjadi pemain baru psg pada rabu dini hari wib melansir marca messi diikat psg dengan kontrak berdurasi dua tahun dengan opsi perpanjangan satu musim hingga juni pemenang enam trofi ballon d or itu kabarnya akan mendapat gaji sebesar juta euro sekitar rp miliar per tahun di psg psgxmessi https t co gbaxujyno pic twitter com tsvpylip saya sangat antusias untuk memulai babak baru dalam karier saya di psg segala sesuatu tentang psg sesuai dengan ambisi sepak bola saya kata messi dalam rilis resmi psg baca juga resmi ke psg lionel messi pilih nomor punggung saya tahu betapa berbakatnya pemain dan staf pelatih di skuad psg saat ini tutur messi menambahkan saya bertekad untuk membangun sesuatu yang istimewa bersama psg dan para fans di sini saya sudah tidak sabar untuk bermain di stadion parc des princes ucap messi \n",
      "\n",
      "Cosine Similarity: 0.035547924817229036\n",
      "kompas com para pemain paris saint germain termasuk neymar antusias menyambut kedatangan lionel messi di pac des princes neymar mengirim pesan selamat datang kepada messi lewat unggahan insta story di instagram nya beberapa waktu lalu dalam unggahan tersebut neymar memajang foto dirinya bersama messi saat masih di barcelona sembari membubuhi caption back together alias kembali bersama neymar is hyped to be reunited with lionel messi at psg pic twitter com zkaujdyhk neymar pernah bermain bersama lionel messi di barcelona selama empat musim sejak hingga baca juga resmi lionel messi bergabung dengan psg dia dengan cepat menjalin hubungan yang kuat dengan sang megabintang asal argentina itu baik di dalam maupun luar lapangan dapatkan informasi inspirasi dan insight di email kamu daftarkan email kontribusi keduanya melahirkan beberapa gelar bergengsi untuk barcelona di antaranya dua trofi laliga dan liga champions neymar dan messi juga merasakan treble alias tiga gelar juara dalam satu musim pada mereka membentuk trio maut bersama luis suarez neymar kemudian meninggalkan barcelona pada untuk paris saint germain psg dengan rekor transfer juta euro saat ini sekitar rp triliun baca juga kata kata pertama lionel messi setelah resmi jadi pemain psg sejak saat itu neymar tak lagi berbagi ruang ganti dengan messi namun takdir menyatukan mereka kembali empat tahun kemudian itu terjadi setelah messi menyusul neymar ke psg messi ke psg setelah gagal menandatangani pembaruan kontrak baru di barcelona karena terhalang regulasi laliga tentang pembatasan gaji dia secara resmi diperkenalkan sebagai pemain baru paris saint germain pada rabu dini hari wib baca juga resmi ke psg lionel messi pilih nomor punggung pemain tahun itu bergabung dengan les parisiens dengan status bebas transfer paris saint germain is delighted to announce the signing of leo messi on a two year contract with an option of a third year https t co dqjqpjff psgxmessi pic twitter com msjanwv melansir marca messi diikat psg dengan kontrak berdurasi dua tahun dengan opsi perpanjangan satu musim hingga juni messi akan menerima gaji sebesar juta euro sekitar rp miliar di luar bonus selama dua tahun ke depan peraih enam gelar ballon d or itu memilih nomor di psg menolak jersey nomor yang ditawarkan neymar sebelumnya \n",
      "\n",
      "Cosine Similarity: 0.029864581355443516\n",
      " paris kompas com mantan kapten barcelona lionel messi telah resmi bergabung dengan paris saint germain psg psg meresmikan transfer lionel messi pada selasa atau rabu dini hari wib dikutip dari situs marca psg resmi mengikat lionel messi dengan kontrak dua tahun yang bisa diperpanjang satu musim sampai juni lionel messi dikabarkan akan mendapat gaji sebesar juta euro atau sekitar rp miliar per musim di luar bonus selama dua tahun ke depan la pulga julukan lionel messi bergabung ke psg dengan status bebas transfer alias gratis setelah kontraknya bersama barcelona habis pada juni baca juga efek messi followers psg di media sosial melonjak kali lipat dapatkan informasi inspirasi dan insight di email kamu daftarkan email setelah resmi ke psg lionel messi mengaku sudah tidak sabar bertemu dengan rekan rekan barunya dan para fans lionel messi juga berharap dirinya bisa membantu psg meraih prestasi tidak hanya di perancis melainkan juga di kompetisi eropa saya sangat antusias untuk memulai babak baru dalam karier saya di psg segala sesuatu tentang psg sesuai dengan ambisi sepak bola saya kata lionel messi dikutip dari rilis resmi psg saya tahu betapa berbakatnya pemain dan staf pelatih di skuad psg saat ini tutur lionel messi menambahkan saya bertekad untuk membangun sesuatu yang istimewa bersama psg dan para fans di sini saya sudah tidak sabar untuk bermain di stadion parc des princes ucap lionel messi psgxmessi https t co gbaxujyno pic twitter com tsvpylip baca juga video foto lionel messi di stadion camp nou sudah dicopot setelah resmi meninggalkan barcelona lionel messi yang kini sudah berusia tahun sempat mengutarakan target dan mimpinya ke depan peraih enam gelar ballon d or itu mengaku ingin kembali mengangkat trofi liga champions sebelum memutuskan pensiun mimpi lionel messi itu sejalan dengan ambisi psg yang sampai saat ini masih berusaha meraih trofi liga champions pertamanya dalam sejarah liga champions prestasi terbaik psg sejauh ini hanyalah menjadi runner up pada musim les parisiens julukan psg saat itu gagal menjadi juara seusai kalah dari raksasa jerman bayern muenchen pada partai final musim lalu langkah psg di liga champions terhenti di semifinal setelah kalah agregat dari manchester city baca juga lionel messi pergi nilai merek barcelona diprediksi turun rp triliun berbeda dari psg lionel messi sejauh ini sudah berhasil mengoleksi empat trofi juara liga champions empat trofi itu didapatkan lionel messi pada dan ketika berseragam barcelona terdekat psg dijadwalkan menghadapi strasbourg di stadion parc des princes pada laga pekan kedua liga perancis sabtu jika tidak ada halangan lionel messi kemungkinan akan debut dengan seragam psg pada laga tersebut \n",
      "\n",
      "Cosine Similarity: 0.025696131540591815\n",
      " paris kompas com lionel messi memutuskan untuk menggunakan nomor punggung di tim barunya paris saint germain psg la pulga julukan lionel messi telah resmi diperkenalkan sebagai pemain baru psg pada rabu dini hari wib dikutip dari situs marca psg resmi mengikat lionel messi dengan kontrak dua tahun sampai juni opsi perpanjangan satu musim juga tertulis dalam kontrak lionel messi berbagai media eropa mengeklaim gaji lionel messi di psg mencapai juta euro atau sekitar rp miliar per musim di luar bonus sebelumnya psg disebut sudah menawarkan lionel messi untuk menggunakan nomor punggung yang kini dipakai neymar jr dapatkan informasi inspirasi dan insight di email kamu daftarkan email baca juga resmi lionel messi bergabung dengan psg namun lionel messi dikabarkan telah menolak tawaran tersebut lionel messi pada akhirnya memilih menggunakan nomor punggung di psg nomor punggung sebenarnya tidak asing untuk lionel messi kapten timnas argentina itu sebelumnya sudah pernah menggunakan nomor punggung selama dua musim di barcelona nomor bahkan bisa dikatakan spesial dalam karier lionel messi sebab adalah nomor punggung yang digunakan lionel messi ketika debut di tim senior barcelona pada oktober baca juga lionel messi pergi nilai merek barcelona diprediksi turun rp triliun leo messi will be unveiled tomorrow as new paris saint germain number psg messi pic twitter com rvqtdoqr leo messi psg a la espalda pic twitter com pmcnlutgc nomor itu terus melekat di punggung lionel messi sampai akhir musim setelah itu lionel messi memilih menggunakan nomor punggung selama dua tahun sejak awal musim hingga tepat pada awal musim lionel messi mendapatkan kehormatan dari barcelona untuk menggunakan nomor punggung yang ditinggal legenda timnas brasil ronaldinho baca juga video foto lionel messi di stadion camp nou sudah dicopot sejak saat itu lionel messi terus menggunakan nomor punggung hingga musim terakhirnya di barcelona di timnas argentina lionel messi juga sangat identik dengan nomor punggung peraih enam gelar ballon d or itu mulai menggunakan nomor punggung di timnas argentina pada sebelum itu lionel messi tercatat sempat memakai tiga nomor lain di timnas argentina yakni dan kini lionel messi tidak lagi menggunakan nomor punggung di level klub adapun konferensi pers pertama lionel messi sebagai pemain psg kemungkinan besar akan dihelat di stadion parc des princes pada rabu waktu setempat \n",
      "\n",
      "Cosine Similarity: 0.014442979034403657\n",
      "kompas com sergio ramos georginio wijnaldum achraf hakimi dan lionel messi merupakan pemain pemain yang pernah menjadi juara di liga liga top eropa kini mereka semua berkumpul di klub ibu kota perancis paris saint germain psg psg melakukan sebuah langkah terbaik dalam sejarah bursa transfer klub kaya asal paris itu berhasil mendatangkan pemain pemain bintang yang pernah merasakan manisnya gelar juara hebatnya lagi beberapa dari pemain bintang itu didatangkan secara cuma cuma alias gratis terkini klub berjulukan les parisiens itu mendatangkan pemenang enam ballon d or lionel messi sebelum mendaratkan messi psg telah mendatangkan sederat pemain bintang yaitu achraf hakimi georginio wijnaldum sergio ramos dan gianluigi donnarumma dari lima nama tersebut hanya hakimi yang diboyong dengan biaya transfer did psg just have the best summer transfer window of all time dapatkan informasi inspirasi dan insight di email kamu daftarkan email lionel messi free sergio ramos free gianluigi donnarumma free achraf hakimi million gini wijnaldum free pic twitter com ivxoxicez baca juga resmi ke psg lionel messi pilih nomor punggung berdasarkan data transfermarkt achraf hakimi ditebus seharga juta euro atau sekitar rp triliun dari klub serie a italia inter milan musim lalu hakimi merupakan bagian penting di balik kesuksesan inter meraih scudetto bek kanan berkebangsaan maroko itu bermain kali pada kompetisi serie a dengan kontribusi tujuh gol dan assists di psg hakimi bakal bereuni dengan seniornya semasa membela real madrid sergio ramos soal ramos mental juara bek tengah berusia tahun itu sudah tidak perlu dipertanyakan lagi berbagai gelar bergengsi pernah diraih oleh ramos selama musim berseraham real madrid termasuk lima titel la liga dan empat liga champions baca juga kisah messi dan nomor awal dari sejarah besar la pulga pemain juara berikutnya yang datang ke paris adalah georginio wijnaldum sebelum pindah ke psg gelandang asal belanda itu turut mengantarkan liverpool meraih gelar liga champions musim dan premier league satu pemain juara lainnya yang tak boleh dilupakan adalah gianluigi donnarumma eks kiper ac milan itu memang belum pernah merasakan gelar scudetto namun hingga saat ini ia telah mengoleksi dua trofi juara donnarumma tercatat pernah meraih trofi supercoppa italiana bersama ac milan dan terkini membantu timnas italia meraih gelar juara euro baca juga lionel messi dan barcelona ketika cinta terhalang oleh keadaan kehadiran lionel messi melengkapi para pemain juara yang kini berkumpul di paris selama tahun memperkuat barcelona messi berhasil meraih segalanya ia tercatat meraih total gelar termasuk titel la liga dan empat trofi liga champions nasser al khela fi chairman and ceo of i am delighted that lionel messi has chosen to join paris saint germain and we are proud to welcome him and his family to paris pic twitter com tywqtazkw meski sudah meraih segalanya bersama barcelona lionel messi masih memiliki ambisi besar kini di rumah barunya messi bertekad memberikan sesuatu yang istimewa bagi psg dan pendukung les parisiens saya bersemangat untuk memulai babak baru dalam karier saya di paris saint germain segala sesuatu tentang klub sesuai dengan ambisi sepak bola saya kata messi usai diresmikan sebagai pemain psg saya tahu betapa berbakatnya skuad dan staf pelatih di sini saya bertekad untuk membantu membangun sesuatu yang istimewa untuk klub dan para penggemar dan saya tak sabar untuk melangkah ke lapangan parc des princes tutur messi yang akan menggunakan nomor di psg \n",
      "\n",
      "Cosine Similarity: 0.0066149211530781475\n",
      "kompas com lionel messi digaji tinggi oleh paris saint germain dalam sehari la pulga bisa mengantongi nyaris rp miliar lionel messi diresmikan menjadi pemain baru paris saint germain psg pada selasa malam waktu setempat atau rabu dini hari wib dia datang ke paris dengan status bebas transfer dari barcelona usai kontraknya yang habis pada akhir juni gagal diperbarui karena terbentur regulasi laliga soal pembatasan gaji sang pemain diikat oleh psg dengan kontrak berdurasi dua tahun dengan opsi perpanjangan satu musim hingga juni baca juga resmi lionel messi bergabung dengan psg belum ada laporan resmi soal gaji messi di psg pihak klub belum memberikan rincian terkait pendapatan yang akan diterima messi dalam kontraknya namun beberapa media yang berbasis di eropa memberikan taksiran berapa upah yang diterima messi di psg dapatkan informasi inspirasi dan insight di email kamu daftarkan email menurut evening standard keringat lionel messi dihargai juta euro sekitar rp miliar per tahun setelah pajak oleh psg itu berarti sang megabintang asal argentina akan menerima tiga juta euro sekitar rp miliar per bulan atau euro sekitar rp miliar setiap minggu baca juga kata kata pertama lionel messi setelah resmi jadi pemain psg jika dihitung per hari messi bisa megantongi euro rp miliar atau euro sekitar rp juta setiap jam dipersempit lagi messi bakal mendapatkan euro sekitar rp juta per menit atau euro sekitar rp per detik selain evening standard media asal perancis l equipe mengklaim bahwa lionel messi akan mengantongi juta euro sekitar rp miliar angka di atas diperkirakan sudah termasuk bonus performa messi tetapi itu belum dikurangi pajak baca juga pilihan formasi psg setelah lionel messi datang untuk menjadi catatan angka angka yang disebutkan di atas hanyalah perkiraan alias belum pasti karena pihak psg belum merilis detail gaji lionel messi namun menurut daily mail dengan penandatanganan messi psg menjadi klub olahraga dengan pengeluaran gaji tertinggi di dunia psg dilaporkan merogoh kocek hingga juta euro sekitar rp triliun hanya untuk menggaji para pemain mereka jumlah tersebut lebih tinggi dibanding tagihan gaji milik real madrid dan manchester united berikut daftar lima klub olahraga dengan tagihan gaji tertinggi di dunia \n",
      "\n"
     ]
    }
   ],
   "source": [
    "# Add The Query\n",
    "q1 = 'barcelona buruk rezim josep maria bartomeu'\n",
    "\n",
    "# Call the function\n",
    "get_similar_articles(q1, df)"
   ]
  },
  {
   "cell_type": "code",
   "execution_count": null,
   "metadata": {},
   "outputs": [],
   "source": []
  },
  {
   "cell_type": "code",
   "execution_count": null,
   "metadata": {},
   "outputs": [],
   "source": []
  },
  {
   "cell_type": "code",
   "execution_count": null,
   "metadata": {},
   "outputs": [],
   "source": []
  },
  {
   "cell_type": "code",
   "execution_count": null,
   "metadata": {},
   "outputs": [],
   "source": []
  }
 ],
 "metadata": {
  "kernelspec": {
   "display_name": "Python 3",
   "language": "python",
   "name": "python3"
  },
  "language_info": {
   "codemirror_mode": {
    "name": "ipython",
    "version": 3
   },
   "file_extension": ".py",
   "mimetype": "text/x-python",
   "name": "python",
   "nbconvert_exporter": "python",
   "pygments_lexer": "ipython3",
   "version": "3.8.6"
  }
 },
 "nbformat": 4,
 "nbformat_minor": 4
}
