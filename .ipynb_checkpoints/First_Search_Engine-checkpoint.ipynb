{
 "cells": [
  {
   "cell_type": "markdown",
   "metadata": {
    "id": "-SH7jMqbuX_r"
   },
   "source": [
    "## Basic Search Engine :\n",
    "\n"
   ]
  },
  {
   "cell_type": "markdown",
   "metadata": {},
   "source": [
    "    The material we deal with here is from an Indonessian Website, so please don't panic if you don't understand it a single bit."
   ]
  },
  {
   "cell_type": "markdown",
   "metadata": {},
   "source": [
    "    You'll also be learning about many more functions in Numpy and Pandas Libraries which we shall be using freely in the coming sections, so look up the documentation to get to know about their exact functions."
   ]
  },
  {
   "cell_type": "markdown",
   "metadata": {},
   "source": [
    "    Before we get our hands dirty, let me give you the steps on how to implement this, and on each section, I will explain on how to build it. They are :\n",
    "\n",
    "        1) Preparing the documents\n",
    "\n",
    "        2)  Create a Term-Document Matrix with TF-IDF weighting\n",
    "\n",
    "        3)  Calculate the similarities between query and documents using Cosine Similarity\n",
    "\n",
    "        4)  Retrieve the articles that have the highest similarity on it."
   ]
  },
  {
   "cell_type": "markdown",
   "metadata": {
    "id": "akdlh-QYwpI6"
   },
   "source": [
    "### Part 1 :  Retrieving the Documents\n"
   ]
  },
  {
   "cell_type": "markdown",
   "metadata": {},
   "source": [
    "    The first thing that we have to do is to retrieve the documents from the Internet. In this case, we can use web scraping to extract documents from a website. We will scrape documents from kompas.com on sport category, especially on the popular articles. Because of the documents are using HTML format, we initialize a BeautifulSoup object to parse the HTML file, so we can extract each element that we want much easier."
   ]
  },
  {
   "cell_type": "code",
   "execution_count": 1,
   "metadata": {},
   "outputs": [],
   "source": [
    "import requests\n",
    "from bs4 import BeautifulSoup\n",
    "\n",
    "# Make a request to the website\n",
    "r = requests.get('https://bola.kompas.com/')\n",
    "\n",
    "# Create an object to parse the HTML format\n",
    "soup = BeautifulSoup(r.content, 'html.parser')"
   ]
  },
  {
   "cell_type": "code",
   "execution_count": 7,
   "metadata": {},
   "outputs": [
    {
     "data": {
      "text/plain": [
       "[<a class=\"most__link\" href=\"https://www.kompas.com/sports/read/2021/09/01/14400068/luuk-de-jong-dan-5-rekrutan-aneh-barcelona\">\n",
       " <h4 class=\"most__title\">Luuk de Jong dan 5 Rekrutan \"Aneh\" Barcelona</h4>\n",
       " <div class=\"most__read\">Dibaca 14.939 kali</div>\n",
       " </a>,\n",
       " <a class=\"most__link\" href=\"https://bola.kompas.com/read/2021/09/01/12214028/jadwal-persib-di-seri-pertama-liga-1-jumpa-bali-united-dan-psm\">\n",
       " <h4 class=\"most__title\">Jadwal Persib di Seri Pertama Liga 1, Jumpa Bali United dan PSM</h4>\n",
       " <div class=\"most__read\">Dibaca 6.631 kali</div>\n",
       " </a>,\n",
       " <a class=\"most__link\" href=\"https://bola.kompas.com/read/2021/09/02/04162338/portugal-vs-irlandia-cetak-111-gol-ronaldo-pemain-tersubur-di-level-timnas\">\n",
       " <h4 class=\"most__title\">Portugal Vs Irlandia: Cetak 111 Gol, Ronaldo Pemain Tersubur di Level Timnas</h4>\n",
       " <div class=\"most__read\">Dibaca 5.210 kali</div>\n",
       " </a>,\n",
       " <a class=\"most__link\" href=\"https://bola.kompas.com/read/2021/09/01/13150078/detail-kontrak-egy-maulana-vikri-di-fk-senica-6-bulan-tetapi-\">\n",
       " <h4 class=\"most__title\">Detail Kontrak Egy Maulana Vikri di FK Senica, 6 Bulan, tetapi...</h4>\n",
       " <div class=\"most__read\">Dibaca 4.325 kali</div>\n",
       " </a>,\n",
       " <a class=\"most__link\" href=\"https://www.kompas.com/motogp/read/2021/09/01/17200048/senggol-jorge-martin-sampai-crash-di-motogp-inggris-marc-marquez-harus\">\n",
       " <h4 class=\"most__title\">Senggol Jorge Martin sampai Crash di MotoGP Inggris, Marc Marquez Harus Dihukum?</h4>\n",
       " <div class=\"most__read\">Dibaca 4.069 kali</div>\n",
       " </a>,\n",
       " <a class=\"most__link\" href=\"https://bola.kompas.com/read/2021/09/01/21354008/resmi-witan-sulaeman-jadi-pemain-baru-lechia-gdansk\">\n",
       " <h4 class=\"most__title\">Resmi! Witan Sulaeman Jadi Pemain Baru Lechia Gdansk</h4>\n",
       " <div class=\"most__read\">Dibaca 3.112 kali</div>\n",
       " </a>,\n",
       " <a class=\"most__link\" href=\"https://bola.kompas.com/read/2021/09/02/03531048/hasil-portugal-vs-irlandia-ronaldo-bikin-rekor-selecao-das-quinas-menang\">\n",
       " <h4 class=\"most__title\">Hasil Portugal Vs Irlandia: Ronaldo Bikin Rekor, Selecao das Quinas Menang Dramatis</h4>\n",
       " <div class=\"most__read\">Dibaca 2.720 kali</div>\n",
       " </a>,\n",
       " <a class=\"most__link\" href=\"https://bola.kompas.com/read/2021/09/01/14200018/alasan-saul-niguez-terima-pinangan-chelsea--diusir-atletico-madrid\">\n",
       " <h4 class=\"most__title\">Alasan Saul Niguez Terima Pinangan Chelsea: \"Diusir\" Atletico Madrid</h4>\n",
       " <div class=\"most__read\">Dibaca 2.627 kali</div>\n",
       " </a>,\n",
       " <a class=\"most__link\" href=\"https://bola.kompas.com/read/2021/09/02/05285518/hasil-kualifikasi-piala-dunia-perancis-seri-cr7-selamatkan-portugal\">\n",
       " <h4 class=\"most__title\">Hasil Kualifikasi Piala Dunia - Perancis Seri, CR7 Selamatkan Portugal</h4>\n",
       " <div class=\"most__read\">Dibaca 2.213 kali</div>\n",
       " </a>,\n",
       " <a class=\"most__link\" href=\"https://bola.kompas.com/read/2021/09/01/14452298/tanpa-messi-dan-griezmann-barcelona-kehilangan-setengah-sumber-gol-musim-lalu\">\n",
       " <h4 class=\"most__title\">Tanpa Messi dan Griezmann, Barcelona Kehilangan Setengah Sumber Gol Musim Lalu</h4>\n",
       " <div class=\"most__read\">Dibaca 2.153 kali</div>\n",
       " </a>]"
      ]
     },
     "execution_count": 7,
     "metadata": {},
     "output_type": "execute_result"
    }
   ],
   "source": [
    "soup.find('div', {'class':'most__wrap'}).find_all('a')"
   ]
  },
  {
   "cell_type": "code",
   "execution_count": 11,
   "metadata": {},
   "outputs": [],
   "source": [
    "# Retrieve all popular news links (Fig. 1)\n",
    "link = []\n",
    "\n",
    "for i in soup.find('div', {'class':'most__wrap'}).find_all('a'):\n",
    "    i['href'] = i['href'] + '?page=all'\n",
    "    link.append(i['href'])"
   ]
  },
  {
   "cell_type": "code",
   "execution_count": 12,
   "metadata": {},
   "outputs": [
    {
     "name": "stdout",
     "output_type": "stream",
     "text": [
      "10\n"
     ]
    }
   ],
   "source": [
    "print(len(link))"
   ]
  },
  {
   "cell_type": "code",
   "execution_count": 14,
   "metadata": {},
   "outputs": [
    {
     "name": "stdout",
     "output_type": "stream",
     "text": [
      "https://www.kompas.com/sports/read/2021/09/01/14400068/luuk-de-jong-dan-5-rekrutan-aneh-barcelona?page=all?page=all\n",
      "/n\n",
      "https://bola.kompas.com/read/2021/09/01/12214028/jadwal-persib-di-seri-pertama-liga-1-jumpa-bali-united-dan-psm?page=all?page=all\n"
     ]
    }
   ],
   "source": [
    "print(link[0])\n",
    "print('/n')\n",
    "print(link[1])"
   ]
  },
  {
   "cell_type": "markdown",
   "metadata": {},
   "source": [
    "    For each link now: \n",
    "        1. we retrieve paragraphs from it, \n",
    "        2. combine each paragraph as one string, and \n",
    "        3. save it to documents\n",
    "    Lets try with one link and then we will put the entire thing in the loop."
   ]
  },
  {
   "cell_type": "code",
   "execution_count": 31,
   "metadata": {},
   "outputs": [],
   "source": [
    "# Make a request to the link\n",
    "r = requests.get(link[4])\n",
    "\n",
    "# Initialize BeautifulSoup object to parse the content \n",
    "soup = BeautifulSoup(r.content, 'html.parser')"
   ]
  },
  {
   "cell_type": "markdown",
   "metadata": {},
   "source": [
    "    Now we would like to combine all the paragraphs i.e. with <p> tag under the <div> tag with class \"read__content\". Lets just select them from soup object"
   ]
  },
  {
   "cell_type": "code",
   "execution_count": 36,
   "metadata": {},
   "outputs": [
    {
     "data": {
      "text/plain": [
       "[<p><strong></strong></p>,\n",
       " <p><strong>KOMPAS.com -</strong> Race Director <a class=\"inner-link-tag\" href=\"https://www.kompas.com/tag/MotoGP\" style=\"color:#428bca;\" target=\"_self\">MotoGP</a> dan Federasi Motor Internasional (FIM) dinilai harus menghukum <a class=\"inner-link-tag\" href=\"https://www.kompas.com/tag/Marc-Marquez\" style=\"color:#428bca;\" target=\"_self\">Marc Marquez</a> (<a class=\"inner-link-tag\" href=\"https://www.kompas.com/tag/Repsol-Honda\" style=\"color:#428bca;\" target=\"_self\">Repsol Honda</a>) karena telah membahayakan keselamatan <a class=\"inner-link-tag\" href=\"https://www.kompas.com/tag/Jorge-Martin\" style=\"color:#428bca;\" target=\"_self\">Jorge Martin</a> (<a class=\"inner-link-tag\" href=\"https://www.kompas.com/tag/Pramac-Racing\" style=\"color:#428bca;\" target=\"_self\">Pramac Racing</a>).</p>,\n",
       " <p>Pendapat itu diungkapkan oleh pengamat MotoGP yang juga pernah menjadi manajer Valentino Rossi, Carlo Pernat.</p>,\n",
       " <p>Insiden yang melibatkan Marc <a class=\"inner-link-tag\" href=\"https://www.kompas.com/tag/Marquez\" style=\"color:#428bca;\" target=\"_self\">Marquez</a> dan Jorge Martin terjadi pada balapan <a class=\"inner-link-tag\" href=\"https://www.kompas.com/tag/motogp-inggris\" style=\"color:#428bca;\" target=\"_self\">MotoGP Inggris</a> 2021 akhir pekan lalu, Minggu (28/8/2021).</p>,\n",
       " <p>Marc Marquez dan Jorge Martin sudah terlibat persaingan sengit dan saling menyalip sejak balapan dimulai.</p>,\n",
       " <p>Puncaknya, Marc Marquez dan Jorge Martin bersenggolan di Tikungan 8 <a class=\"inner-link-tag\" href=\"https://www.kompas.com/tag/Sirkuit-Silverstone\" style=\"color:#428bca;\" target=\"_self\">Sirkuit Silverstone</a>.</p>,\n",
       " <p>Dalam tayangan ulang, Marc Marquez melakukan manuver yang sangat agresif dengan mencoba menyalip Jorge Martin dari sisi dalam Tikungan 8.</p>,\n",
       " <p>Dapatkan informasi, inspirasi dan <i>insight</i> di <i>email</i> kamu.<br/><a href=\"javascript:void(0)\" onclick=\"nwsLetterSubmit()\">Daftarkan <i>email</i></a></p>,\n",
       " <p><strong>Baca juga: <a class=\"inner-link-baca-juga\" href=\"https://www.kompas.com/motogp/read/2021/08/30/23000058/marc-marquez-berulah-di-motogp-inggris-bos-repsol-honda-kecewa\" target=\"_self\">Marc Marquez Berulah di MotoGP Inggris, Bos Repsol Honda Kecewa</a></strong></p>,\n",
       " <p>Tabrakan pada akhirnya tidak terhindarkan setelah bagian depan motor Marc Marquez menyenggol sisi kanan Jorge Martin yang juga hendak berbelok.</p>,\n",
       " <p>Marquez dan Jorge Martin yang kehilangan kendali kemudian langsung tergelincir keluar lintasan.</p>,\n",
       " <p>Meski berhasil bangkit, Marc Marquez dan Jorge Martin pada akhirnya tetap tidak bisa melanjutkan balapan MotoGP Inggris.</p>,\n",
       " <p>Melihat kejadian itu, Carlo Pernat menilai Race Director MotoGP dan FIM seharusnya langsung menghukum Marquez.</p>,\n",
       " <p>Sebab, tindakan Marquez bisa membahayakan keselamatan Jorge Martin.</p>,\n",
       " <p>Tidak main-main, Carlo Pernat menilai Marquez seharusnya mendapat hukuman berat, yakni didiskualifikasi dari MotoGP.</p>,\n",
       " <p><strong>Baca juga: <a class=\"inner-link-baca-juga\" href=\"https://www.kompas.com/motogp/read/2021/08/30/07151898/amarah-jorge-martin-pecah-usai-disenggol-marquez-pada-motogp-inggris\" target=\"_self\">Amarah Jorge Martin Pecah Usai Disenggol Marquez pada MotoGP Inggris</a></strong></p>,\n",
       " <p>\"Apa yang dilakukan Marquez kepada Jorge Martin sangat buruk. Marquez telah melempar Jorge Martin ke tanah. Hal itu bisa melukai Jorge Martin,\" kata Pernat dikutip dari situs <em>GP One</em>.</p>,\n",
       " <p>\"Anda tidak boleh balapan dengan cara seperti itu. MotoGP harus segera membuat keputusan dan mempertimbangkan hukuman diskualifikasi untuk Marquez,\" ucap Pernat.</p>,\n",
       " <p>\"Saya mengerti Marc Marquez saat ini sedang menghadapi masa sulit (berusaha bangkit setelah cedera panjang),\" tutur Pernat.</p>,\n",
       " <p>\"Namun, Marquez tidak boleh melakukan manuver seperti itu. Tindakan Marqeuz tidak dapat dibenarkan,\" ucap Pernat.</p>,\n",
       " <p>\"Apa yang terjadi di Sirkuit Silverstone adalah hasil kelalaian masa lalu. Sebab, tidak ada tindakan atau hukuman yang diambil jika terjadi insiden seperti ini. Jadi, inilah hasilnya,\" ujar Pernat.</p>,\n",
       " <p>Jorge Martin sebagai \"korban\" juga sempat mengungkapkan harapan yang sama dengan Pernat.</p>,\n",
       " <p>Pebalap asal Spanyol itu menilai Race Director MotoGP dan FIM seharusnya menghukum Marc Marquez.</p>,\n",
       " <p><strong>Baca juga: <a class=\"inner-link-baca-juga\" href=\"https://www.kompas.com/motogp/read/2021/08/29/19425788/hasil-motogp-inggris-quartararo-menang-marquez-crash-dan-gagal-finis\" target=\"_self\">Hasil MotoGP Inggris - Quartararo Menang, Marquez Crash dan Gagal Finis</a></strong></p>,\n",
       " <p><div class=\"photo\" data-photolink=\"http://www.kompas.com/motogp/image/2021/09/01/17200048/senggol-jorge-martin-sampai-crash-di-motogp-inggris-marc-marquez-harus?page=2\" id=\"6117efca8674fe2ae65baa02\" style=\"   max-width: 100% ; width:750px \"><img alt=\"Jorge Martin saat berlaga pada MotoGP Austria 2021. (Photo by JOE KLAMAR / AFP)\" data-aligment=\"\" data-width=\"750px\" src=\"https://asset.kompas.com/crops/kG_nzOT__oJdqyQTkJ7efWlfsmI=/21x0:1024x669/750x500/data/photo/2021/08/14/6117efca5a10a.jpg\"/><span class=\"pb_10 author\">JOE KLAMAR</span> Jorge Martin saat berlaga pada MotoGP Austria 2021. (Photo by JOE KLAMAR / AFP)</div></p>,\n",
       " <p>Jorge Martin juga mengaku heran karena pebalap sekaliber Marc Marquez melakukan manuver yang membahayakan pebalap lain.</p>,\n",
       " <p>\"Saya tidak memiliki kapasitas untuk membuat keputusan. Saya berharap manajemen balapan bisa melakukan tugasnya dengan baik,\" kata Jorge Martin dikutip dari situs <em>Speedweek.</em></p>,\n",
       " <p>\"Kejadian itu berjalan sangat cepat. Saya menilai Marc Marquez saat itu berusaha menyalip dengan mengambil sisi dalam,\" ujar Martin.</p>,\n",
       " <p>\"Saya tidak tahu mengapa Marquez melakukan manuver itu. Dia sudah berada di sisi dalam tikungan. Namun, saya tidak tahu mengapa dia melebar dan menabrak saya,\" ucap Martin.</p>,\n",
       " <p>\"Saya tidak punya kapasitas untuk berbicara soal hukuman seperti denda atau lainnya. Itu bukan urusan saya,\" tutur Martin menambahkan.</p>,\n",
       " <p>Seusai <a class=\"inner-link-tag\" href=\"https://www.kompas.com/tag/MotoGP-Inggris-2021\" style=\"color:#428bca;\" target=\"_self\">MotoGP Inggris 2021</a>, Marc Marquez secara terbuka sudah mengakui kesalahannya dan meminta maaf ke Jorge Martin.</p>,\n",
       " <p>Marc Marquez bahkan juga sudah menghampiri garasi Pramac Racing untuk meminta maaf tidak lama setelah bertabrakan dengan Jorge Martin.</p>,\n",
       " <p><strong>Baca juga: <a class=\"inner-link-baca-juga\" href=\"https://www.kompas.com/motogp/read/2021/08/31/07200038/valentino-rossi--butuh-20-30-tahun-lagi-untuk-bisa-akur-dengan-marc\" target=\"_self\">Valentino Rossi: Butuh 20-30 Tahun Lagi untuk Bisa Akur dengan Marc Marquez</a></strong></p>,\n",
       " <p>Bagi Marc Marquez, ini adalah kegagalan keempatnya menyelesaikan balapan <a class=\"inner-link-tag\" href=\"https://www.kompas.com/tag/MotoGP-2021\" style=\"color:#428bca;\" target=\"_self\">MotoGP 2021</a>.</p>,\n",
       " <p>Sebelumnya, Marquez juga gagal meraih poin akibat mengalami crash pada MotoGP Perancis, MotoGP Italia, dan MotoGP Catalunya.</p>,\n",
       " <p>Di sisi lain, insiden di Sirkut Silverstone membuat Jorge Martin gagal menuntaskan misinya meraih tiga podium MotoGP 2021 secara beruntun.</p>,\n",
       " <p>Kegagalan meraih poin dari MotoGP Inggris membuat Jorge Martin tertahan di peringkat ke-10 klasemen pebalap dengan koleksi 64 poin.</p>,\n",
       " <p>Adapun Marc Marquez yang mengoleksi 59 poin harus turun dua tingkat ke urutan ke-12 klasemen.</p>]"
      ]
     },
     "execution_count": 36,
     "metadata": {},
     "output_type": "execute_result"
    }
   ],
   "source": [
    "soup.find('div', {'class':'read__content'}).find_all('p')"
   ]
  },
  {
   "cell_type": "markdown",
   "metadata": {},
   "source": [
    "    Lets take one of the elemets."
   ]
  },
  {
   "cell_type": "code",
   "execution_count": 37,
   "metadata": {},
   "outputs": [
    {
     "data": {
      "text/plain": [
       "<p>Dalam tayangan ulang, Marc Marquez melakukan manuver yang sangat agresif dengan mencoba menyalip Jorge Martin dari sisi dalam Tikungan 8.</p>"
      ]
     },
     "execution_count": 37,
     "metadata": {},
     "output_type": "execute_result"
    }
   ],
   "source": [
    "soup.find('div', {'class':'read__content'}).find_all('p')[6]"
   ]
  },
  {
   "cell_type": "markdown",
   "metadata": {},
   "source": [
    "    Now select the text out of it. "
   ]
  },
  {
   "cell_type": "code",
   "execution_count": 39,
   "metadata": {},
   "outputs": [
    {
     "data": {
      "text/plain": [
       "'Dalam tayangan ulang, Marc Marquez melakukan manuver yang sangat agresif dengan mencoba menyalip Jorge Martin dari sisi dalam Tikungan 8.'"
      ]
     },
     "execution_count": 39,
     "metadata": {},
     "output_type": "execute_result"
    }
   ],
   "source": [
    "soup.find('div', {'class':'read__content'}).find_all('p')[6].text"
   ]
  },
  {
   "cell_type": "markdown",
   "metadata": {},
   "source": [
    "    We will be follwing the same process for all the elements and then we will combine all of them into a bigger string object for each page."
   ]
  },
  {
   "cell_type": "code",
   "execution_count": 40,
   "metadata": {},
   "outputs": [],
   "source": [
    "# Retrieve all paragraphs and combine it as one\n",
    "sen = []\n",
    "for i in soup.find('div', {'class':'read__content'}).find_all('p'):\n",
    "    sen.append(i.text)"
   ]
  },
  {
   "cell_type": "code",
   "execution_count": 41,
   "metadata": {},
   "outputs": [
    {
     "data": {
      "text/plain": [
       "['',\n",
       " 'KOMPAS.com - Race Director MotoGP dan Federasi Motor Internasional (FIM) dinilai harus menghukum Marc Marquez (Repsol Honda) karena telah membahayakan keselamatan Jorge Martin (Pramac Racing).',\n",
       " 'Pendapat itu diungkapkan oleh pengamat MotoGP yang juga pernah menjadi manajer Valentino Rossi, Carlo Pernat.',\n",
       " 'Insiden yang melibatkan Marc Marquez dan Jorge Martin terjadi pada balapan MotoGP Inggris 2021 akhir pekan lalu, Minggu (28/8/2021).',\n",
       " 'Marc Marquez dan Jorge Martin sudah terlibat persaingan sengit dan saling menyalip sejak balapan dimulai.',\n",
       " 'Puncaknya, Marc Marquez dan Jorge Martin bersenggolan di Tikungan 8 Sirkuit Silverstone.',\n",
       " 'Dalam tayangan ulang, Marc Marquez melakukan manuver yang sangat agresif dengan mencoba menyalip Jorge Martin dari sisi dalam Tikungan 8.',\n",
       " 'Dapatkan informasi, inspirasi dan insight di email kamu.Daftarkan email',\n",
       " 'Baca juga: Marc Marquez Berulah di MotoGP Inggris, Bos Repsol Honda Kecewa',\n",
       " 'Tabrakan pada akhirnya tidak terhindarkan setelah bagian depan motor Marc Marquez menyenggol sisi kanan Jorge Martin yang juga hendak berbelok.',\n",
       " 'Marquez dan Jorge Martin yang kehilangan kendali kemudian langsung tergelincir keluar lintasan.',\n",
       " 'Meski berhasil bangkit, Marc Marquez dan Jorge Martin pada akhirnya tetap tidak bisa melanjutkan balapan MotoGP Inggris.',\n",
       " 'Melihat kejadian itu, Carlo Pernat menilai Race Director MotoGP dan FIM seharusnya langsung menghukum Marquez.',\n",
       " 'Sebab, tindakan Marquez bisa membahayakan keselamatan Jorge Martin.',\n",
       " 'Tidak main-main, Carlo Pernat menilai Marquez seharusnya mendapat hukuman berat, yakni didiskualifikasi dari MotoGP.',\n",
       " 'Baca juga: Amarah Jorge Martin Pecah Usai Disenggol Marquez pada MotoGP Inggris',\n",
       " '\"Apa yang dilakukan Marquez kepada Jorge Martin sangat buruk. Marquez telah melempar Jorge Martin ke tanah. Hal itu bisa melukai Jorge Martin,\" kata Pernat dikutip dari situs GP One.',\n",
       " '\"Anda tidak boleh balapan dengan cara seperti itu. MotoGP harus segera membuat keputusan dan mempertimbangkan hukuman diskualifikasi untuk Marquez,\" ucap Pernat.',\n",
       " '\"Saya mengerti Marc Marquez saat ini sedang menghadapi masa sulit (berusaha bangkit setelah cedera panjang),\" tutur Pernat.',\n",
       " '\"Namun, Marquez tidak boleh melakukan manuver seperti itu. Tindakan Marqeuz tidak dapat dibenarkan,\" ucap Pernat.',\n",
       " '\"Apa yang terjadi di Sirkuit Silverstone adalah hasil kelalaian masa lalu. Sebab, tidak ada tindakan atau hukuman yang diambil jika terjadi insiden seperti ini. Jadi, inilah hasilnya,\" ujar Pernat.',\n",
       " 'Jorge Martin sebagai \"korban\" juga sempat mengungkapkan harapan yang sama dengan Pernat.',\n",
       " 'Pebalap asal Spanyol itu menilai Race Director MotoGP dan FIM seharusnya menghukum Marc Marquez.',\n",
       " 'Baca juga: Hasil MotoGP Inggris - Quartararo Menang, Marquez Crash dan Gagal Finis',\n",
       " 'JOE KLAMAR Jorge Martin saat berlaga pada MotoGP Austria 2021. (Photo by JOE KLAMAR / AFP)',\n",
       " 'Jorge Martin juga mengaku heran karena pebalap sekaliber Marc Marquez melakukan manuver yang membahayakan pebalap lain.',\n",
       " '\"Saya tidak memiliki kapasitas untuk membuat keputusan. Saya berharap manajemen balapan bisa melakukan tugasnya dengan baik,\" kata Jorge Martin dikutip dari situs Speedweek.',\n",
       " '\"Kejadian itu berjalan sangat cepat. Saya menilai Marc Marquez saat itu berusaha menyalip dengan mengambil sisi dalam,\" ujar Martin.',\n",
       " '\"Saya tidak tahu mengapa Marquez melakukan manuver itu. Dia sudah berada di sisi dalam tikungan. Namun, saya tidak tahu mengapa dia melebar dan menabrak saya,\" ucap Martin.',\n",
       " '\"Saya tidak punya kapasitas untuk berbicara soal hukuman seperti denda atau lainnya. Itu bukan urusan saya,\" tutur Martin menambahkan.',\n",
       " 'Seusai MotoGP Inggris 2021, Marc Marquez secara terbuka sudah mengakui kesalahannya dan meminta maaf ke Jorge Martin.',\n",
       " 'Marc Marquez bahkan juga sudah menghampiri garasi Pramac Racing untuk meminta maaf tidak lama setelah bertabrakan dengan Jorge Martin.',\n",
       " 'Baca juga: Valentino Rossi: Butuh 20-30 Tahun Lagi untuk Bisa Akur dengan Marc Marquez',\n",
       " 'Bagi Marc Marquez, ini adalah kegagalan keempatnya menyelesaikan balapan MotoGP 2021.',\n",
       " 'Sebelumnya, Marquez juga gagal meraih poin akibat mengalami crash pada MotoGP Perancis, MotoGP Italia, dan MotoGP Catalunya.',\n",
       " 'Di sisi lain, insiden di Sirkut Silverstone membuat Jorge Martin gagal menuntaskan misinya meraih tiga podium MotoGP 2021 secara beruntun.',\n",
       " 'Kegagalan meraih poin dari MotoGP Inggris membuat Jorge Martin tertahan di peringkat ke-10 klasemen pebalap dengan koleksi 64 poin.',\n",
       " 'Adapun Marc Marquez yang mengoleksi 59 poin harus turun dua tingkat ke urutan ke-12 klasemen.']"
      ]
     },
     "execution_count": 41,
     "metadata": {},
     "output_type": "execute_result"
    }
   ],
   "source": [
    "sen"
   ]
  },
  {
   "cell_type": "markdown",
   "metadata": {},
   "source": [
    "    This is all the sentences present in the ith link. Now we will make it into a single sentence for the page using .join() function."
   ]
  },
  {
   "cell_type": "code",
   "execution_count": 42,
   "metadata": {},
   "outputs": [],
   "source": [
    "sen = ' '.join(sen)"
   ]
  },
  {
   "cell_type": "code",
   "execution_count": 43,
   "metadata": {},
   "outputs": [
    {
     "data": {
      "text/plain": [
       "' KOMPAS.com - Race Director MotoGP dan Federasi Motor Internasional (FIM) dinilai harus menghukum Marc Marquez (Repsol Honda) karena telah membahayakan keselamatan Jorge Martin (Pramac Racing). Pendapat itu diungkapkan oleh pengamat MotoGP yang juga pernah menjadi manajer Valentino Rossi, Carlo Pernat. Insiden yang melibatkan Marc Marquez dan Jorge Martin terjadi pada balapan MotoGP Inggris 2021 akhir pekan lalu, Minggu (28/8/2021). Marc Marquez dan Jorge Martin sudah terlibat persaingan sengit dan saling menyalip sejak balapan dimulai. Puncaknya, Marc Marquez dan Jorge Martin bersenggolan di Tikungan 8 Sirkuit Silverstone. Dalam tayangan ulang, Marc Marquez melakukan manuver yang sangat agresif dengan mencoba menyalip Jorge Martin dari sisi dalam Tikungan 8. Dapatkan informasi, inspirasi dan insight di email kamu.Daftarkan email Baca juga: Marc Marquez Berulah di MotoGP Inggris, Bos Repsol Honda Kecewa Tabrakan pada akhirnya tidak terhindarkan setelah bagian depan motor Marc Marquez menyenggol sisi kanan Jorge Martin yang juga hendak berbelok. Marquez dan Jorge Martin yang kehilangan kendali kemudian langsung tergelincir keluar lintasan. Meski berhasil bangkit, Marc Marquez dan Jorge Martin pada akhirnya tetap tidak bisa melanjutkan balapan MotoGP Inggris. Melihat kejadian itu, Carlo Pernat menilai Race Director MotoGP dan FIM seharusnya langsung menghukum Marquez. Sebab, tindakan Marquez bisa membahayakan keselamatan Jorge Martin. Tidak main-main, Carlo Pernat menilai Marquez seharusnya mendapat hukuman berat, yakni didiskualifikasi dari MotoGP. Baca juga: Amarah Jorge Martin Pecah Usai Disenggol Marquez pada MotoGP Inggris \"Apa yang dilakukan Marquez kepada Jorge Martin sangat buruk. Marquez telah melempar Jorge Martin ke tanah. Hal itu bisa melukai Jorge Martin,\" kata Pernat dikutip dari situs GP One. \"Anda tidak boleh balapan dengan cara seperti itu. MotoGP harus segera membuat keputusan dan mempertimbangkan hukuman diskualifikasi untuk Marquez,\" ucap Pernat. \"Saya mengerti Marc Marquez saat ini sedang menghadapi masa sulit (berusaha bangkit setelah cedera panjang),\" tutur Pernat. \"Namun, Marquez tidak boleh melakukan manuver seperti itu. Tindakan Marqeuz tidak dapat dibenarkan,\" ucap Pernat. \"Apa yang terjadi di Sirkuit Silverstone adalah hasil kelalaian masa lalu. Sebab, tidak ada tindakan atau hukuman yang diambil jika terjadi insiden seperti ini. Jadi, inilah hasilnya,\" ujar Pernat. Jorge Martin sebagai \"korban\" juga sempat mengungkapkan harapan yang sama dengan Pernat. Pebalap asal Spanyol itu menilai Race Director MotoGP dan FIM seharusnya menghukum Marc Marquez. Baca juga: Hasil MotoGP Inggris - Quartararo Menang, Marquez Crash dan Gagal Finis JOE KLAMAR Jorge Martin saat berlaga pada MotoGP Austria 2021. (Photo by JOE KLAMAR / AFP) Jorge Martin juga mengaku heran karena pebalap sekaliber Marc Marquez melakukan manuver yang membahayakan pebalap lain. \"Saya tidak memiliki kapasitas untuk membuat keputusan. Saya berharap manajemen balapan bisa melakukan tugasnya dengan baik,\" kata Jorge Martin dikutip dari situs Speedweek. \"Kejadian itu berjalan sangat cepat. Saya menilai Marc Marquez saat itu berusaha menyalip dengan mengambil sisi dalam,\" ujar Martin. \"Saya tidak tahu mengapa Marquez melakukan manuver itu. Dia sudah berada di sisi dalam tikungan. Namun, saya tidak tahu mengapa dia melebar dan menabrak saya,\" ucap Martin. \"Saya tidak punya kapasitas untuk berbicara soal hukuman seperti denda atau lainnya. Itu bukan urusan saya,\" tutur Martin menambahkan. Seusai MotoGP Inggris 2021, Marc Marquez secara terbuka sudah mengakui kesalahannya dan meminta maaf ke Jorge Martin. Marc Marquez bahkan juga sudah menghampiri garasi Pramac Racing untuk meminta maaf tidak lama setelah bertabrakan dengan Jorge Martin. Baca juga: Valentino Rossi: Butuh 20-30 Tahun Lagi untuk Bisa Akur dengan Marc Marquez Bagi Marc Marquez, ini adalah kegagalan keempatnya menyelesaikan balapan MotoGP 2021. Sebelumnya, Marquez juga gagal meraih poin akibat mengalami crash pada MotoGP Perancis, MotoGP Italia, dan MotoGP Catalunya. Di sisi lain, insiden di Sirkut Silverstone membuat Jorge Martin gagal menuntaskan misinya meraih tiga podium MotoGP 2021 secara beruntun. Kegagalan meraih poin dari MotoGP Inggris membuat Jorge Martin tertahan di peringkat ke-10 klasemen pebalap dengan koleksi 64 poin. Adapun Marc Marquez yang mengoleksi 59 poin harus turun dua tingkat ke urutan ke-12 klasemen.'"
      ]
     },
     "execution_count": 43,
     "metadata": {},
     "output_type": "execute_result"
    }
   ],
   "source": [
    "sen"
   ]
  },
  {
   "cell_type": "markdown",
   "metadata": {},
   "source": [
    "    Looks good right ...?  So lets run it on all the links and create one string object for each page and put it in the documents container.So documents would a collects of str object."
   ]
  },
  {
   "cell_type": "code",
   "execution_count": 44,
   "metadata": {
    "id": "3NgpIVeRw3xn"
   },
   "outputs": [],
   "source": [
    "# For each link, we retrieve paragraphs from it, combine each paragraph as one string, and save it to documents (Fig. 2)\n",
    "documents = []\n",
    "\n",
    "for i in link:\n",
    "    # Make a request to the link\n",
    "    r = requests.get(i)\n",
    "  \n",
    "    # Initialize BeautifulSoup object to parse the content \n",
    "    soup = BeautifulSoup(r.content, 'html.parser')\n",
    "  \n",
    "    # Retrieve all paragraphs and combine it as one\n",
    "    sen = []\n",
    "    for i in soup.find('div', {'class':'read__content'}).find_all('p'):\n",
    "        sen.append(i.text)\n",
    "  \n",
    "    # Add the combined paragraphs to documents\n",
    "    documents.append(' '.join(sen))"
   ]
  },
  {
   "cell_type": "code",
   "execution_count": 45,
   "metadata": {},
   "outputs": [
    {
     "data": {
      "text/plain": [
       "10"
      ]
     },
     "execution_count": 45,
     "metadata": {},
     "output_type": "execute_result"
    }
   ],
   "source": [
    "len(documents)"
   ]
  },
  {
   "cell_type": "markdown",
   "metadata": {},
   "source": [
    "     10 links and 10 documents."
   ]
  },
  {
   "cell_type": "markdown",
   "metadata": {
    "id": "nYXTglEUw_VZ"
   },
   "source": [
    "### Part 2 :  Clean the Documents"
   ]
  },
  {
   "cell_type": "markdown",
   "metadata": {},
   "source": [
    "    Right after we extract the documents, we have to clean it, so our retrieval process becomes much easier. For each document, we have to remove all unnecessary words, numbers and punctuations, lowercase the word, and remove the doubled space. Here is the code for it : "
   ]
  },
  {
   "cell_type": "code",
   "execution_count": 48,
   "metadata": {
    "id": "9UxlYIoaxmRY"
   },
   "outputs": [],
   "source": [
    "import re\n",
    "import string\n",
    "\n",
    "documents_clean = []\n",
    "\n",
    "for d in documents:\n",
    "    \n",
    "    # Remove Unicode\n",
    "    document_test = re.sub(r'[^\\x00-\\x7F]+', ' ', d)\n",
    "    \n",
    "    # Remove Mentions\n",
    "    document_test = re.sub(r'@\\w+', '', document_test)\n",
    "    \n",
    "    # Lowercase the document\n",
    "    document_test = document_test.lower()\n",
    "    \n",
    "    # Remove punctuations\n",
    "    document_test = re.sub(r'[%s]' % re.escape(string.punctuation), ' ', document_test)\n",
    "    \n",
    "    # Lowercase the numbers\n",
    "    document_test = re.sub(r'[0-9]', '', document_test)\n",
    "    \n",
    "    # Remove the doubled space\n",
    "    document_test = re.sub(r'\\s{2,}', ' ', document_test)\n",
    "    \n",
    "    documents_clean.append(document_test)"
   ]
  },
  {
   "cell_type": "markdown",
   "metadata": {
    "id": "mdtGU8wSxp9j"
   },
   "source": [
    "### Part 3 :  Creating Term-Document Matrix with TF-IDF weighting"
   ]
  },
  {
   "cell_type": "markdown",
   "metadata": {},
   "source": [
    "    After each document is clean, it’s time to create a matrix. Now the question comes why do we need a matrix and what is tf-idf. This article is not about tf-idf so we will not delve much deeper into that but we will just over-view it so that you can continue with the basic search engien building, rather than jumping here and there."
   ]
  },
  {
   "cell_type": "markdown",
   "metadata": {},
   "source": [
    "    All the machine learning algorithms/models with natural language liks ours in this scenario, is faced with one major hurdle – its algorithms usually deal with numbers, and natural language is, well, text. So we need to transform that text into numbers, otherwise known as text vectorization. It’s a fundamental step in the process of machine learning for analyzing data, and different vectorization algorithms will drastically affect end results, so you need to choose one that will deliver the results you’re hoping for. \n",
    "    \n",
    "    This is why we need this tf-idf algo, but why only tf-idf why not something else ?? Reasons are its easy to interpret, implement and most importantly it has shown that it gives a very very good result with NLP tasks, it becomes even more powerful when used with w2v models or you can curate it to BM25 algo. Lets nnot go there.\n",
    "\n",
    "    Once you’ve transformed words into numbers, in a way that’s machine learning algorithms can understand, the TF-IDF score can be fed to algorithms such as Naive Bayes and Support Vector Machines, greatly improving the results of more basic methods like word counts."
   ]
  },
  {
   "cell_type": "markdown",
   "metadata": {},
   "source": [
    "    Formally, we can define TF-IDF (term frequency-inverse document frequency) as, its a statistical measure that evaluates how relevant a word is to a document in a collection of documents.\n",
    "\n",
    "    This is done by multiplying two metrics: how many times a word appears in a document, and the inverse document frequency of the word across a set of documents."
   ]
  },
  {
   "cell_type": "markdown",
   "metadata": {},
   "source": [
    "    Thankfully, scikit-learn library has prepared for us the code of it, so we don’t have to implement it from scratch."
   ]
  },
  {
   "cell_type": "code",
   "execution_count": 52,
   "metadata": {
    "id": "uxwrsGLez3Aq"
   },
   "outputs": [],
   "source": [
    "import pandas as pd\n",
    "from sklearn.feature_extraction.text import TfidfVectorizer\n",
    "\n",
    "# Instantiate a TfidfVectorizer object\n",
    "vectorizer = TfidfVectorizer()\n",
    "\n",
    "# It fits the data and transform it as a vector\n",
    "X = vectorizer.fit_transform(documents_clean)\n",
    "\n",
    "# Convert the X as transposed matrix\n",
    "X = X.T.toarray()\n",
    "\n",
    "# Create a DataFrame and set the vocabulary as the index\n",
    "df = pd.DataFrame(X, index = vectorizer.get_feature_names())"
   ]
  },
  {
   "cell_type": "code",
   "execution_count": 54,
   "metadata": {},
   "outputs": [
    {
     "data": {
      "text/html": [
       "<div>\n",
       "<style scoped>\n",
       "    .dataframe tbody tr th:only-of-type {\n",
       "        vertical-align: middle;\n",
       "    }\n",
       "\n",
       "    .dataframe tbody tr th {\n",
       "        vertical-align: top;\n",
       "    }\n",
       "\n",
       "    .dataframe thead th {\n",
       "        text-align: right;\n",
       "    }\n",
       "</style>\n",
       "<table border=\"1\" class=\"dataframe\">\n",
       "  <thead>\n",
       "    <tr style=\"text-align: right;\">\n",
       "      <th></th>\n",
       "      <th>0</th>\n",
       "      <th>1</th>\n",
       "      <th>2</th>\n",
       "      <th>3</th>\n",
       "      <th>4</th>\n",
       "      <th>5</th>\n",
       "      <th>6</th>\n",
       "      <th>7</th>\n",
       "      <th>8</th>\n",
       "      <th>9</th>\n",
       "    </tr>\n",
       "  </thead>\n",
       "  <tbody>\n",
       "    <tr>\n",
       "      <th>ac</th>\n",
       "      <td>0.0</td>\n",
       "      <td>0.0</td>\n",
       "      <td>0.0</td>\n",
       "      <td>0.000000</td>\n",
       "      <td>0.000000</td>\n",
       "      <td>0.000000</td>\n",
       "      <td>0.000000</td>\n",
       "      <td>0.018671</td>\n",
       "      <td>0.000000</td>\n",
       "      <td>0.000000</td>\n",
       "    </tr>\n",
       "    <tr>\n",
       "      <th>ada</th>\n",
       "      <td>0.0</td>\n",
       "      <td>0.0</td>\n",
       "      <td>0.0</td>\n",
       "      <td>0.036638</td>\n",
       "      <td>0.011403</td>\n",
       "      <td>0.000000</td>\n",
       "      <td>0.000000</td>\n",
       "      <td>0.012346</td>\n",
       "      <td>0.077912</td>\n",
       "      <td>0.000000</td>\n",
       "    </tr>\n",
       "    <tr>\n",
       "      <th>adalah</th>\n",
       "      <td>0.0</td>\n",
       "      <td>0.0</td>\n",
       "      <td>0.0</td>\n",
       "      <td>0.000000</td>\n",
       "      <td>0.025650</td>\n",
       "      <td>0.000000</td>\n",
       "      <td>0.018838</td>\n",
       "      <td>0.069432</td>\n",
       "      <td>0.000000</td>\n",
       "      <td>0.000000</td>\n",
       "    </tr>\n",
       "    <tr>\n",
       "      <th>adam</th>\n",
       "      <td>0.0</td>\n",
       "      <td>0.0</td>\n",
       "      <td>0.0</td>\n",
       "      <td>0.000000</td>\n",
       "      <td>0.000000</td>\n",
       "      <td>0.000000</td>\n",
       "      <td>0.025328</td>\n",
       "      <td>0.000000</td>\n",
       "      <td>0.000000</td>\n",
       "      <td>0.000000</td>\n",
       "    </tr>\n",
       "    <tr>\n",
       "      <th>adapun</th>\n",
       "      <td>0.0</td>\n",
       "      <td>0.0</td>\n",
       "      <td>0.0</td>\n",
       "      <td>0.000000</td>\n",
       "      <td>0.012825</td>\n",
       "      <td>0.035042</td>\n",
       "      <td>0.000000</td>\n",
       "      <td>0.000000</td>\n",
       "      <td>0.043816</td>\n",
       "      <td>0.000000</td>\n",
       "    </tr>\n",
       "    <tr>\n",
       "      <th>...</th>\n",
       "      <td>...</td>\n",
       "      <td>...</td>\n",
       "      <td>...</td>\n",
       "      <td>...</td>\n",
       "      <td>...</td>\n",
       "      <td>...</td>\n",
       "      <td>...</td>\n",
       "      <td>...</td>\n",
       "      <td>...</td>\n",
       "      <td>...</td>\n",
       "    </tr>\n",
       "    <tr>\n",
       "      <th>yakni</th>\n",
       "      <td>0.0</td>\n",
       "      <td>0.0</td>\n",
       "      <td>0.0</td>\n",
       "      <td>0.020605</td>\n",
       "      <td>0.012825</td>\n",
       "      <td>0.000000</td>\n",
       "      <td>0.000000</td>\n",
       "      <td>0.013886</td>\n",
       "      <td>0.000000</td>\n",
       "      <td>0.000000</td>\n",
       "    </tr>\n",
       "    <tr>\n",
       "      <th>yang</th>\n",
       "      <td>0.0</td>\n",
       "      <td>0.0</td>\n",
       "      <td>0.0</td>\n",
       "      <td>0.027009</td>\n",
       "      <td>0.092466</td>\n",
       "      <td>0.126321</td>\n",
       "      <td>0.024693</td>\n",
       "      <td>0.072812</td>\n",
       "      <td>0.114873</td>\n",
       "      <td>0.070316</td>\n",
       "    </tr>\n",
       "    <tr>\n",
       "      <th>yycvthsnzf</th>\n",
       "      <td>0.0</td>\n",
       "      <td>0.0</td>\n",
       "      <td>0.0</td>\n",
       "      <td>0.000000</td>\n",
       "      <td>0.000000</td>\n",
       "      <td>0.023558</td>\n",
       "      <td>0.000000</td>\n",
       "      <td>0.000000</td>\n",
       "      <td>0.000000</td>\n",
       "      <td>0.000000</td>\n",
       "    </tr>\n",
       "    <tr>\n",
       "      <th>zona</th>\n",
       "      <td>0.0</td>\n",
       "      <td>0.0</td>\n",
       "      <td>0.0</td>\n",
       "      <td>0.000000</td>\n",
       "      <td>0.000000</td>\n",
       "      <td>0.000000</td>\n",
       "      <td>0.000000</td>\n",
       "      <td>0.000000</td>\n",
       "      <td>0.176743</td>\n",
       "      <td>0.000000</td>\n",
       "    </tr>\n",
       "    <tr>\n",
       "      <th>zzmhejtjr</th>\n",
       "      <td>0.0</td>\n",
       "      <td>0.0</td>\n",
       "      <td>0.0</td>\n",
       "      <td>0.000000</td>\n",
       "      <td>0.000000</td>\n",
       "      <td>0.000000</td>\n",
       "      <td>0.025328</td>\n",
       "      <td>0.000000</td>\n",
       "      <td>0.000000</td>\n",
       "      <td>0.000000</td>\n",
       "    </tr>\n",
       "  </tbody>\n",
       "</table>\n",
       "<p>1028 rows × 10 columns</p>\n",
       "</div>"
      ],
      "text/plain": [
       "              0    1    2         3         4         5         6         7  \\\n",
       "ac          0.0  0.0  0.0  0.000000  0.000000  0.000000  0.000000  0.018671   \n",
       "ada         0.0  0.0  0.0  0.036638  0.011403  0.000000  0.000000  0.012346   \n",
       "adalah      0.0  0.0  0.0  0.000000  0.025650  0.000000  0.018838  0.069432   \n",
       "adam        0.0  0.0  0.0  0.000000  0.000000  0.000000  0.025328  0.000000   \n",
       "adapun      0.0  0.0  0.0  0.000000  0.012825  0.035042  0.000000  0.000000   \n",
       "...         ...  ...  ...       ...       ...       ...       ...       ...   \n",
       "yakni       0.0  0.0  0.0  0.020605  0.012825  0.000000  0.000000  0.013886   \n",
       "yang        0.0  0.0  0.0  0.027009  0.092466  0.126321  0.024693  0.072812   \n",
       "yycvthsnzf  0.0  0.0  0.0  0.000000  0.000000  0.023558  0.000000  0.000000   \n",
       "zona        0.0  0.0  0.0  0.000000  0.000000  0.000000  0.000000  0.000000   \n",
       "zzmhejtjr   0.0  0.0  0.0  0.000000  0.000000  0.000000  0.025328  0.000000   \n",
       "\n",
       "                   8         9  \n",
       "ac          0.000000  0.000000  \n",
       "ada         0.077912  0.000000  \n",
       "adalah      0.000000  0.000000  \n",
       "adam        0.000000  0.000000  \n",
       "adapun      0.043816  0.000000  \n",
       "...              ...       ...  \n",
       "yakni       0.000000  0.000000  \n",
       "yang        0.114873  0.070316  \n",
       "yycvthsnzf  0.000000  0.000000  \n",
       "zona        0.176743  0.000000  \n",
       "zzmhejtjr   0.000000  0.000000  \n",
       "\n",
       "[1028 rows x 10 columns]"
      ]
     },
     "execution_count": 54,
     "metadata": {},
     "output_type": "execute_result"
    }
   ],
   "source": [
    "df"
   ]
  },
  {
   "cell_type": "markdown",
   "metadata": {
    "id": "JgEo-zTNz9OB"
   },
   "source": [
    "    The result (matrix) will become a representation of the documents. As you see each column is a document and each row is a feature. By using that, we can find the similarity between different documents based on the matrix. We could see the resulting matrix :"
   ]
  },
  {
   "cell_type": "code",
   "execution_count": 56,
   "metadata": {
    "id": "l5f0LZQ20ANx"
   },
   "outputs": [
    {
     "name": "stdout",
     "output_type": "stream",
     "text": [
      "          0    1    2         3         4         5         6         7  \\\n",
      "ac      0.0  0.0  0.0  0.000000  0.000000  0.000000  0.000000  0.018671   \n",
      "ada     0.0  0.0  0.0  0.036638  0.011403  0.000000  0.000000  0.012346   \n",
      "adalah  0.0  0.0  0.0  0.000000  0.025650  0.000000  0.018838  0.069432   \n",
      "adam    0.0  0.0  0.0  0.000000  0.000000  0.000000  0.025328  0.000000   \n",
      "adapun  0.0  0.0  0.0  0.000000  0.012825  0.035042  0.000000  0.000000   \n",
      "\n",
      "               8    9  \n",
      "ac      0.000000  0.0  \n",
      "ada     0.077912  0.0  \n",
      "adalah  0.000000  0.0  \n",
      "adam    0.000000  0.0  \n",
      "adapun  0.043816  0.0  \n",
      "(1028, 10)\n"
     ]
    }
   ],
   "source": [
    "print(df.head())\n",
    "print(df.shape)"
   ]
  },
  {
   "cell_type": "markdown",
   "metadata": {
    "id": "tPwvzbtJ0HJa"
   },
   "source": [
    "    The matrix above is called as Term-Document Matrix. It consists of rows that represent by each token (term) from all documents, and the columns consist of the identifier of the document. Inside of the cell is the number of frequency of each word that is weighted by some number.\n",
    "\n",
    "    We will use the column vector, which is a vector that represents each document to calculate the similarity with a given query. We can call this vector as **embeddings**.\n",
    "\n",
    "    For calculating the cell value, the code uses the TF-IDF method to do this. TF-IDF (Term Frequency — Inverse Document Frequency) is a frequency of a word that is weighted by IDF. Let us see each one of them:\n"
   ]
  },
  {
   "cell_type": "markdown",
   "metadata": {
    "id": "182ta5vT0sim"
   },
   "source": [
    "**Term Frequency (TF)** is a frequency of term (t) on document (d). The formula looks like this :\n",
    "\n",
    "![1_p8jtFaKJuPCawI0pgnm8Wg.png](data:image/png;base64,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)\n",
    "\n",
    "Beside of that, we can use a log with bases of 10 to calculate the TF, so the number becomes smaller, and the computation process becomes faster. Also, make sure to add one on it because we don’t want log 0 exist.\n",
    "\n",
    "![1_p7uI7EBIFMXoncaegK0TyA.png](data:image/png;base64,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)"
   ]
  },
  {
   "cell_type": "markdown",
   "metadata": {
    "id": "pY0yn4RU2Yc9"
   },
   "source": [
    "    Then, there is the **Inverse Document Frequency (IDF)**. This formula will be used for calculating the rarity of the word in all documents. It will be used as weights for the TF. If a word is frequent, then the IDF will be smaller. In opposite, if the word is less frequent, then the IDF will be larger. The formula looks like this : \n",
    "\n",
    "![1_If2tWOjX4eWjwPhSv9T7mQ.png](data:image/png;base64,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)\n",
    "\n",
    "Recall the TF-IDF, we can see how does it affect the value on each cell. It will remove all the words that are frequently shown in documents but at the same time not important, such as and, or, even, actually, etc. Based on that, we use this as the value on each cell on our matrix."
   ]
  },
  {
   "cell_type": "markdown",
   "metadata": {},
   "source": [
    "### Part 4 :  Calculate the similarity using cosine similarity"
   ]
  },
  {
   "cell_type": "markdown",
   "metadata": {},
   "source": [
    "    After we create the matrix, we can prepare our query to find articles based on the highest similarity between the document and the query. To calculate the similarity, we can use the cosine similarity formula to do this. It looks like this :"
   ]
  },
  {
   "attachments": {
    "Screenshot%202021-09-02%20at%2011.50.56%20AM.png": {
     "image/png": "[encoded data removed]"
    }
   },
   "cell_type": "markdown",
   "metadata": {},
   "source": [
    "![Screenshot%202021-09-02%20at%2011.50.56%20AM.png](attachment:Screenshot%202021-09-02%20at%2011.50.56%20AM.png)"
   ]
  },
  {
   "cell_type": "markdown",
   "metadata": {
    "id": "VH-WpfWx2ouO"
   },
   "source": [
    "\n",
    "    The formula calculates the dot product divided by the multiplication of the length on each vector. The value ranges from [1, 0], but in general, the cosine value ranges from [-1, 1]. Because there are no negative values on it, we can ignore the negative value because it never happens.\n"
   ]
  },
  {
   "cell_type": "markdown",
   "metadata": {
    "id": "I8ypzL-c2513"
   },
   "source": [
    "    Now, we will implement the code to find similarities on documents based on a query. The first thing that we have to do is to transform the query as a vector on the matrix that we have. Then, we calculate the similarities between them. And finally, we retrieve all documents that have values above 0 in similarity. The code looks like this :"
   ]
  },
  {
   "cell_type": "code",
   "execution_count": 62,
   "metadata": {
    "id": "Oy1H5HG03OvC"
   },
   "outputs": [],
   "source": [
    "import numpy as np \n",
    "\n",
    "def get_similar_articles(q, df):\n",
    "    print(\"query:\", q)\n",
    "    print(\"Berikut artikel dengan nilai cosine similarity tertinggi: \")\n",
    "    \n",
    "    # Convert the query become a vector\n",
    "    q = [q]\n",
    "    q_vec = vectorizer.transform(q).toarray().reshape(df.shape[0],)\n",
    "    \n",
    "    sim = {}\n",
    "    # Calculate the similarity\n",
    "    for i in range(10):\n",
    "        sim[i] = np.dot(df.loc[:, i].values, q_vec) / np.linalg.norm(df.loc[:, i]) * np.linalg.norm(q_vec)\n",
    "  \n",
    "    # Sort the values \n",
    "    sim_sorted = sorted(sim.items(), key=lambda x: x[1], reverse=True)\n",
    "    \n",
    "    # Print the articles and their similarity values\n",
    "    for k, v in sim_sorted:\n",
    "        if v != 0.0:\n",
    "            print(\"Cosine Similarity:\", v)\n",
    "            print(documents_clean[k])\n",
    "        print()"
   ]
  },
  {
   "cell_type": "code",
   "execution_count": 63,
   "metadata": {},
   "outputs": [
    {
     "name": "stdout",
     "output_type": "stream",
     "text": [
      "query: barcelona\n",
      "Berikut artikel dengan nilai cosine similarity tertinggi: \n",
      "Cosine Similarity: nan\n",
      "\n",
      "\n",
      "Cosine Similarity: nan\n",
      "\n",
      "\n",
      "Cosine Similarity: nan\n",
      "\n",
      "\n",
      "Cosine Similarity: 0.21459453633354833\n",
      "kompas com pada rabu antoine griezmann pergi dari barcelona ia menyusul lionel messi untuk berjalan ke pintu keluar kubu camp nou kepergian antoine griezmann dan lionel messi punya dampak besar bagaimana tidak mundo deportivo mencatat keduanya mencetak dari gol barcelona musim lalu artinya bomber asal perancis itu dan lionel messi membukukan hampir setengah persen dari total gol barca musim lalu lionel messi sendiri telah meninggalkan kubu camp nou untuk bergabung dengan psg setelah barca tak bisa lagi mendaftarkannya kerena terpentok oleh aturan financial fair play liga spanyol kontribusi messi dan griezmann pada musim pertama ronald koeman menjabat itu memang luar biasa baca juga profil luuk de jong striker darurat asal belanda pilihan barcelona musim lalu messi mencetak gol di liga spanyol di liga champions dan di copa del rey sementara griezmann membukukan gol di liga spanyol di liga champions di copa dan lagi di piala super spanyol dapatkan informasi inspirasi dan insight di email kamu daftarkan email hal ini menjadikan griezmann sebagai satu satunya pemain barcelona yang bisa membukukan gol di keempat kompetisi yang diikuti barca musim lalu griezmann berada di bawah messi di tangga klasemen pencetak gol dan pemberi assist bagi barcelona di liga spanyol musim lalu ia juga menjadi satu satunya pemain yang sukses dalam mengambil tendangan penalti di liga spanyol bagi barcelona selain messi martin braithwaite mencoba mengambil sekali tendangan penalti di liga spanyol sepanjang musim lalu dan gagal mengonversikan kesempatannya tak hanya itu kehilangan messi dan griezmann juga membuat barcelona kehilangan porsi signifikan dari gol gol musim lalu baca juga transfer kejutan antoine griezmann kembali ke atletico madrid rinciannya dari di liga spanyol dari gol di liga champions dari di copa del rey dan dari di piala super spanyol atletico madrid sendiri merupakan tim yang membesarkan nama griezmann penyerang berusia tahun ini memperkuat los rojiblancos dari hingga selama kariernya di wanda metropolitano griezmann menyumbangkan trofi termasuk gelar liga europa dia juga mencetak gol dan assist dalam penampilan untuk klub ibu kota spanyol tersebut \n",
      "\n",
      "Cosine Similarity: 0.01587239203434404\n",
      " kompas com perpindahan saul niguez dari atletico madrid ke chelsea menjadi salah satu berita yang cukup mengejutkan pada bursa transfer musim ini saul niguez resmi bergabung dengan chelsea pada hari terakhir bursa transfer musim panas rabu dini hari wib chelsea harus mengeluarkan uang juta euro atau sekitar rp miliar untuk meminjam saul niguez dari atletico madrid selama satu musim dikutip dari situs the telegraph kedua tim juga telah menyepakati harga transfer jika chelsea ingin memermanenkan saul niguez musim depan chelsea disebut harus menyiapkan dana sebesar juta euro atau sekitar rp milar jika ingin mempertahankan saul secara permanen musim depan baca juga resmi chelsea rekrut saul niguez dari atletico madrid dapatkan informasi inspirasi dan insight di email kamu daftarkan email sepanjang bursa transfer musim panas saul niguez memang kerap diberitakan akan meninggalkan atletico madrid barcelona liverpool dan chelsea menjadi tiga tim yang sering dikaitkan dengan gelandang asal spanyol tersebut namun rumor tersebut perlahan meredup setelah saul niguez selalu tampil pada tiga laga pertama atletico madrid di liga spanyol musim ini saul niguez pada akhirnya membuat keputusan mengejutkan ketika memilih merantau ke inggris untuk menerima pinangan chelsea terkait keputusan tersebut saul niguez mengaku menghadapi banyak dilema sepanjang musim panas pada awalnya saul ingin bertahan di atletico madrid namun setelah banyak merenung saul memutuskan untuk hengkang pada akhir pekan lalu baca juga saul niguez dan jejak pemain spanyol di chelsea keputusan itu diambil saul karena merasa sudah tidak dibutuhkan atau dengan kata lain diusir dari atletico madrid perasaan itu muncul setelah saul berbicara dengan pelatih atletico madrid diego simeone mengenai posisi bermainnya saul mengaku kecewa karena simeone tidak lagi menempatkan dirinya di posisi asli yakni gelandang tengah pemain berusia tahun itu kemudian merasa semakin terasingkan setelah atletico madrid mendatangkan gelandang asal argentina rodrigo de paul dari udinese dua hari yang lalu saya mengatakan kepada istri saya bahwa saya akan bertahan namun satu satunya hal yang mengganggu pikiran saya adalah posisi bermain di atletico kata saul dikutip dari situs marca saya sudah sering berbicara dengan simeone tentang posisi bermain sebab posisi saya tidak pernah tetap selama tiga musim terakhir tutur saul jika bertahan saya sangat tidak nyaman karena harus bermain sebagai winger atau penyerang saya sudah mengeluhkan hal itu kepada simeone ujar saul afp oscar del pozo gelandang atletico madrid saul niguez merayakan setelah liga champions uefa babak besar pertandingan sepakbola leg pertama antara club atletico de madrid dan liverpool fc di stadion wanda metropolitano di madrid pada februari awal musim ini saya sudah mengetahui bahwa atletico madrid tidak menginginkan saya lagi itu adalah pukulan telak meskipun saya sempat bermain awal musim ini tutur saul atletico madrid menilai keputusan terbaik untuk semua pihak adalah saya harus meninggalkan klub atletico madrid sudah mendapatkan pemain incarannya dan saya bisa pergi ke tim yang menginginkan saya ucap saul meski demikian meninggalkan atletico madrid adalah keputusan terberat yang pernah saya ambil meninggalkan rumah dan memulai petualangan baru adalah sesuatu yang rumit tutur saul baca juga resmi ac milan kembali pinjam bakayoko dari chelsea selama membela atleltio madrid saul niguez memang pernah menempati banyak posisi mulai dari winger bek kiri sampai bek tengah dikutip dari situs transfermarkt saul niguez tercatat kali bermain sebagai fullback ataupun wingback kiri di atletico madrid dalam keterangannya saul niguez mengaku dijanjikan posisi gelandang tengah oleh pelatih chelsea thomas tuchel faktor itulah yang membuat saul niguez memilih chelsea sebagai pelabuhan barunya termasuk saul niguez chelsea tercatat mendatangkan tiga pemain pada bursa transfer musim panas kali ini sebelumnya chelsea sukses merekrut marcus bettineli kiper dan memulangkan romelu lukaku ke stadion stamford bridge debut saul niguez bersama chelsea kemungkinan besar akan terjadi pekan depan tepatnya setelah jeda internasional jika tidak ada halangan saul niguez diprediksi bisa debut ketika chelsea menghadapi aston villa pada laga pekan keempat liga inggris sabtu \n",
      "\n",
      "\n",
      "\n",
      "\n",
      "\n",
      "\n"
     ]
    },
    {
     "name": "stderr",
     "output_type": "stream",
     "text": [
      "<ipython-input-62-b26b4669fd2d>:14: RuntimeWarning: invalid value encountered in double_scalars\n",
      "  sim[i] = np.dot(df.loc[:, i].values, q_vec) / np.linalg.norm(df.loc[:, i]) * np.linalg.norm(q_vec)\n"
     ]
    }
   ],
   "source": [
    "# Add The Query\n",
    "q1 = 'barcelona'\n",
    "\n",
    "# Call the function\n",
    "get_similar_articles(q1, df)"
   ]
  },
  {
   "cell_type": "markdown",
   "metadata": {
    "id": "lKhWUw09MOKv"
   },
   "source": [
    "This notebook is adapted from [here](https://towardsdatascience.com/create-a-simple-search-engine-using-python-412587619ff5)."
   ]
  }
 ],
 "metadata": {
  "colab": {
   "collapsed_sections": [],
   "name": "FirstEngine.ipynb",
   "provenance": []
  },
  "kernelspec": {
   "display_name": "Python 3",
   "language": "python",
   "name": "python3"
  },
  "language_info": {
   "codemirror_mode": {
    "name": "ipython",
    "version": 3
   },
   "file_extension": ".py",
   "mimetype": "text/x-python",
   "name": "python",
   "nbconvert_exporter": "python",
   "pygments_lexer": "ipython3",
   "version": "3.8.6"
  }
 },
 "nbformat": 4,
 "nbformat_minor": 1
}
